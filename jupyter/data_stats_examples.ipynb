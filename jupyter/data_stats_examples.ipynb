{
 "cells": [
  {
   "cell_type": "markdown",
   "id": "f211929c-881b-4734-b49d-5c90abab2841",
   "metadata": {},
   "source": [
    "# Number of users and tweets \n",
    "Overall and by period (month, quarter)"
   ]
  },
  {
   "cell_type": "code",
   "execution_count": 12,
   "id": "9a3bd430-be91-441c-b91a-142d0a5d0255",
   "metadata": {},
   "outputs": [
    {
     "data": {
      "application/vnd.jupyter.widget-view+json": {
       "model_id": "2dcdff1d3ba24609a6ba37f62555d41f",
       "version_major": 2,
       "version_minor": 0
      },
      "text/plain": [
       "  0%|          | 0/785 [00:00<?, ?it/s]"
      ]
     },
     "metadata": {},
     "output_type": "display_data"
    },
    {
     "data": {
      "text/plain": [
       "785"
      ]
     },
     "execution_count": 12,
     "metadata": {},
     "output_type": "execute_result"
    }
   ],
   "source": [
    "# Takes ~16 min\n",
    "import os\n",
    "import pandas as pd\n",
    "from glob import glob\n",
    "from tqdm.auto import tqdm\n",
    "from tqdm.contrib.concurrent import process_map\n",
    "\n",
    "dirpath = '../output/tweets_bios_identities/'\n",
    "tweet_fpaths = sorted(glob(os.path.join(dirpath, '*')))\n",
    "\n",
    "def select_from_dump(tweet_fpath):\n",
    "    tweets = pd.read_json(tweet_fpath, lines=True)\n",
    "    return tweets.drop_duplicates(subset=['id_str'])[['id_str', 'user.id_str', 'created_at']]\n",
    "\n",
    "dfs = process_map(select_from_dump, tweet_fpaths, max_workers=25, total=len(tweet_fpaths))\n",
    "len(dfs)"
   ]
  },
  {
   "cell_type": "code",
   "execution_count": 13,
   "id": "adfd9042-a1b3-4ead-838a-b1a6faabb58f",
   "metadata": {},
   "outputs": [
    {
     "name": "stdout",
     "output_type": "stream",
     "text": [
      "<class 'pandas.core.frame.DataFrame'>\n",
      "Int64Index: 485053009 entries, 0 to 1039509\n",
      "Data columns (total 3 columns):\n",
      " #   Column       Dtype         \n",
      "---  ------       -----         \n",
      " 0   id_str       int64         \n",
      " 1   user.id_str  int64         \n",
      " 2   created_at   datetime64[ns]\n",
      "dtypes: datetime64[ns](1), int64(2)\n",
      "memory usage: 14.5 GB\n"
     ]
    }
   ],
   "source": [
    "tweets = pd.concat(dfs)\n",
    "tweets.info()"
   ]
  },
  {
   "cell_type": "code",
   "execution_count": 14,
   "id": "85ca29e3-dfc8-4d5f-ba02-edc8e1783078",
   "metadata": {},
   "outputs": [],
   "source": [
    "# Save out for stats\n",
    "tweets.to_pickle('../tmp/user_tweet_ids_overtime.pkl')"
   ]
  },
  {
   "cell_type": "code",
   "execution_count": 15,
   "id": "02b733a9-9541-46ac-adff-7d0bf3a8b886",
   "metadata": {},
   "outputs": [
    {
     "data": {
      "text/plain": [
       "17221733"
      ]
     },
     "execution_count": 15,
     "metadata": {},
     "output_type": "execute_result"
    }
   ],
   "source": [
    "len(tweets['user.id_str'].unique())"
   ]
  },
  {
   "cell_type": "code",
   "execution_count": 16,
   "id": "43182c5d-dd53-4d16-ba23-124a7ba813de",
   "metadata": {},
   "outputs": [
    {
     "name": "stdout",
     "output_type": "stream",
     "text": [
      "<class 'pandas.core.frame.DataFrame'>\n",
      "Int64Index: 349084005 entries, 0 to 1039509\n",
      "Data columns (total 3 columns):\n",
      " #   Column       Dtype         \n",
      "---  ------       -----         \n",
      " 0   id_str       int64         \n",
      " 1   user.id_str  int64         \n",
      " 2   created_at   datetime64[ns]\n",
      "dtypes: datetime64[ns](1), int64(2)\n",
      "memory usage: 10.4 GB\n"
     ]
    }
   ],
   "source": [
    "import datetime\n",
    "\n",
    "tweets2020 = tweets[tweets.created_at < datetime.datetime(2021,1,1)]\n",
    "tweets2020.info()"
   ]
  },
  {
   "cell_type": "code",
   "execution_count": 17,
   "id": "e54be444-bc5b-4102-be3a-6810a92bb25d",
   "metadata": {},
   "outputs": [
    {
     "data": {
      "text/plain": [
       "13663557"
      ]
     },
     "execution_count": 17,
     "metadata": {},
     "output_type": "execute_result"
    }
   ],
   "source": [
    "len(tweets2020['user.id_str'].unique())"
   ]
  },
  {
   "cell_type": "code",
   "execution_count": 7,
   "id": "9b0b196c-1843-448d-91b0-3354ee8094da",
   "metadata": {},
   "outputs": [
    {
     "name": "stdout",
     "output_type": "stream",
     "text": [
      "<class 'pandas.core.frame.DataFrame'>\n",
      "DatetimeIndex: 30 entries, 2020-01-01 to 2022-06-01\n",
      "Freq: MS\n",
      "Data columns (total 2 columns):\n",
      " #   Column          Non-Null Count  Dtype\n",
      "---  ------          --------------  -----\n",
      " 0   n_tweets        30 non-null     int64\n",
      " 1   n_unique_users  30 non-null     int64\n",
      "dtypes: int64(2)\n",
      "memory usage: 720.0 bytes\n"
     ]
    },
    {
     "data": {
      "text/html": [
       "<div>\n",
       "<style scoped>\n",
       "    .dataframe tbody tr th:only-of-type {\n",
       "        vertical-align: middle;\n",
       "    }\n",
       "\n",
       "    .dataframe tbody tr th {\n",
       "        vertical-align: top;\n",
       "    }\n",
       "\n",
       "    .dataframe thead th {\n",
       "        text-align: right;\n",
       "    }\n",
       "</style>\n",
       "<table border=\"1\" class=\"dataframe\">\n",
       "  <thead>\n",
       "    <tr style=\"text-align: right;\">\n",
       "      <th></th>\n",
       "      <th>n_tweets</th>\n",
       "      <th>n_unique_users</th>\n",
       "    </tr>\n",
       "    <tr>\n",
       "      <th>created_at</th>\n",
       "      <th></th>\n",
       "      <th></th>\n",
       "    </tr>\n",
       "  </thead>\n",
       "  <tbody>\n",
       "    <tr>\n",
       "      <th>2020-01-01</th>\n",
       "      <td>1710781</td>\n",
       "      <td>706925</td>\n",
       "    </tr>\n",
       "    <tr>\n",
       "      <th>2020-02-01</th>\n",
       "      <td>13637918</td>\n",
       "      <td>2115615</td>\n",
       "    </tr>\n",
       "    <tr>\n",
       "      <th>2020-03-01</th>\n",
       "      <td>41149267</td>\n",
       "      <td>5344798</td>\n",
       "    </tr>\n",
       "    <tr>\n",
       "      <th>2020-04-01</th>\n",
       "      <td>42409718</td>\n",
       "      <td>4831125</td>\n",
       "    </tr>\n",
       "    <tr>\n",
       "      <th>2020-05-01</th>\n",
       "      <td>42146216</td>\n",
       "      <td>4691446</td>\n",
       "    </tr>\n",
       "  </tbody>\n",
       "</table>\n",
       "</div>"
      ],
      "text/plain": [
       "            n_tweets  n_unique_users\n",
       "created_at                          \n",
       "2020-01-01   1710781          706925\n",
       "2020-02-01  13637918         2115615\n",
       "2020-03-01  41149267         5344798\n",
       "2020-04-01  42409718         4831125\n",
       "2020-05-01  42146216         4691446"
      ]
     },
     "execution_count": 7,
     "metadata": {},
     "output_type": "execute_result"
    }
   ],
   "source": [
    "# Get stats\n",
    "monthly = tweets.groupby(pd.Grouper(key='created_at', freq='MS')).agg(\n",
    "    n_tweets=pd.NamedAgg(column=\"id_str\", aggfunc=\"count\"), \n",
    "    n_unique_users=pd.NamedAgg(column=\"user.id_str\", aggfunc=lambda x: len(set(x))))\n",
    "monthly.info()\n",
    "monthly.head()"
   ]
  },
  {
   "cell_type": "code",
   "execution_count": 9,
   "id": "88ad6032-b8d7-4a39-a112-812b05eb5ca7",
   "metadata": {},
   "outputs": [],
   "source": [
    "monthly.to_csv('../output/analysis/monthly_stats.csv')"
   ]
  },
  {
   "cell_type": "code",
   "execution_count": 6,
   "id": "7c4d23f1-3993-4835-91bb-bedf88a0d981",
   "metadata": {},
   "outputs": [
    {
     "name": "stdout",
     "output_type": "stream",
     "text": [
      "<class 'pandas.core.frame.DataFrame'>\n",
      "Index: 30 entries, 2020-01-01 to 2022-06-01\n",
      "Data columns (total 2 columns):\n",
      " #   Column          Non-Null Count  Dtype\n",
      "---  ------          --------------  -----\n",
      " 0   n_tweets        30 non-null     int64\n",
      " 1   n_unique_users  30 non-null     int64\n",
      "dtypes: int64(2)\n",
      "memory usage: 720.0+ bytes\n"
     ]
    }
   ],
   "source": [
    "import pandas as pd\n",
    "monthly = pd.read_csv('../output/analysis/monthly_stats.csv').set_index('created_at')\n",
    "monthly.info()"
   ]
  },
  {
   "cell_type": "code",
   "execution_count": 12,
   "id": "7f3e81ff-8ca9-4e51-a485-10099117826a",
   "metadata": {},
   "outputs": [
    {
     "name": "stderr",
     "output_type": "stream",
     "text": [
      "IOStream.flush timed out\n",
      "IOStream.flush timed out\n"
     ]
    },
    {
     "name": "stdout",
     "output_type": "stream",
     "text": [
      "<class 'pandas.core.frame.DataFrame'>\n",
      "DatetimeIndex: 10 entries, 2020-01-01 to 2022-04-01\n",
      "Freq: 3MS\n",
      "Data columns (total 2 columns):\n",
      " #   Column          Non-Null Count  Dtype\n",
      "---  ------          --------------  -----\n",
      " 0   n_tweets        10 non-null     int64\n",
      " 1   n_unique_users  10 non-null     int64\n",
      "dtypes: int64(2)\n",
      "memory usage: 240.0 bytes\n"
     ]
    },
    {
     "data": {
      "text/html": [
       "<div>\n",
       "<style scoped>\n",
       "    .dataframe tbody tr th:only-of-type {\n",
       "        vertical-align: middle;\n",
       "    }\n",
       "\n",
       "    .dataframe tbody tr th {\n",
       "        vertical-align: top;\n",
       "    }\n",
       "\n",
       "    .dataframe thead th {\n",
       "        text-align: right;\n",
       "    }\n",
       "</style>\n",
       "<table border=\"1\" class=\"dataframe\">\n",
       "  <thead>\n",
       "    <tr style=\"text-align: right;\">\n",
       "      <th></th>\n",
       "      <th>n_tweets</th>\n",
       "      <th>n_unique_users</th>\n",
       "    </tr>\n",
       "    <tr>\n",
       "      <th>created_at</th>\n",
       "      <th></th>\n",
       "      <th></th>\n",
       "    </tr>\n",
       "  </thead>\n",
       "  <tbody>\n",
       "    <tr>\n",
       "      <th>2020-01-01</th>\n",
       "      <td>56497966</td>\n",
       "      <td>5953396</td>\n",
       "    </tr>\n",
       "    <tr>\n",
       "      <th>2020-04-01</th>\n",
       "      <td>140075485</td>\n",
       "      <td>8160078</td>\n",
       "    </tr>\n",
       "    <tr>\n",
       "      <th>2020-07-01</th>\n",
       "      <td>91317103</td>\n",
       "      <td>6700355</td>\n",
       "    </tr>\n",
       "    <tr>\n",
       "      <th>2020-10-01</th>\n",
       "      <td>61193451</td>\n",
       "      <td>5436098</td>\n",
       "    </tr>\n",
       "    <tr>\n",
       "      <th>2021-01-01</th>\n",
       "      <td>27083900</td>\n",
       "      <td>3650526</td>\n",
       "    </tr>\n",
       "    <tr>\n",
       "      <th>2021-04-01</th>\n",
       "      <td>37019512</td>\n",
       "      <td>3892513</td>\n",
       "    </tr>\n",
       "    <tr>\n",
       "      <th>2021-07-01</th>\n",
       "      <td>32919417</td>\n",
       "      <td>3362945</td>\n",
       "    </tr>\n",
       "    <tr>\n",
       "      <th>2021-10-01</th>\n",
       "      <td>22371415</td>\n",
       "      <td>2643020</td>\n",
       "    </tr>\n",
       "    <tr>\n",
       "      <th>2022-01-01</th>\n",
       "      <td>13903560</td>\n",
       "      <td>2180296</td>\n",
       "    </tr>\n",
       "    <tr>\n",
       "      <th>2022-04-01</th>\n",
       "      <td>2671200</td>\n",
       "      <td>724227</td>\n",
       "    </tr>\n",
       "  </tbody>\n",
       "</table>\n",
       "</div>"
      ],
      "text/plain": [
       "             n_tweets  n_unique_users\n",
       "created_at                           \n",
       "2020-01-01   56497966         5953396\n",
       "2020-04-01  140075485         8160078\n",
       "2020-07-01   91317103         6700355\n",
       "2020-10-01   61193451         5436098\n",
       "2021-01-01   27083900         3650526\n",
       "2021-04-01   37019512         3892513\n",
       "2021-07-01   32919417         3362945\n",
       "2021-10-01   22371415         2643020\n",
       "2022-01-01   13903560         2180296\n",
       "2022-04-01    2671200          724227"
      ]
     },
     "execution_count": 12,
     "metadata": {},
     "output_type": "execute_result"
    }
   ],
   "source": [
    "# Get stats\n",
    "quarterly = tweets.groupby(pd.Grouper(key='created_at', freq='3MS')).agg(\n",
    "    n_tweets=pd.NamedAgg(column=\"id_str\", aggfunc=\"count\"), \n",
    "    n_unique_users=pd.NamedAgg(column=\"user.id_str\", aggfunc=lambda x: len(set(x))))\n",
    "quarterly.info()\n",
    "quarterly"
   ]
  },
  {
   "cell_type": "code",
   "execution_count": 13,
   "id": "503748b4-e805-425d-b95d-bfdd37cbd67d",
   "metadata": {},
   "outputs": [],
   "source": [
    "quarterly.to_csv('../output/analysis/quarterly_stats.csv')"
   ]
  },
  {
   "cell_type": "markdown",
   "id": "3de3c0b5-c0fa-4af8-8341-151b8d68b31f",
   "metadata": {},
   "source": [
    "## Plots for the paper"
   ]
  },
  {
   "cell_type": "code",
   "execution_count": 1,
   "id": "5bf5ed93-da4f-4c45-80d9-a44366df7ce6",
   "metadata": {},
   "outputs": [
    {
     "name": "stdout",
     "output_type": "stream",
     "text": [
      "<class 'pandas.core.frame.DataFrame'>\n",
      "RangeIndex: 30 entries, 0 to 29\n",
      "Data columns (total 3 columns):\n",
      " #   Column          Non-Null Count  Dtype         \n",
      "---  ------          --------------  -----         \n",
      " 0   created_at      30 non-null     datetime64[ns]\n",
      " 1   n_tweets        30 non-null     int64         \n",
      " 2   n_unique_users  30 non-null     int64         \n",
      "dtypes: datetime64[ns](1), int64(2)\n",
      "memory usage: 852.0 bytes\n"
     ]
    }
   ],
   "source": [
    "import pandas as pd\n",
    "monthly = pd.read_csv('../output/analysis/monthly_stats.csv', parse_dates=['created_at'])\n",
    "monthly.info()"
   ]
  },
  {
   "cell_type": "code",
   "execution_count": 2,
   "id": "71c6ce97-7e5f-4819-b6bd-04bceb16c96e",
   "metadata": {},
   "outputs": [
    {
     "name": "stdout",
     "output_type": "stream",
     "text": [
      "<class 'pandas.core.frame.DataFrame'>\n",
      "Int64Index: 12 entries, 0 to 11\n",
      "Data columns (total 3 columns):\n",
      " #   Column          Non-Null Count  Dtype         \n",
      "---  ------          --------------  -----         \n",
      " 0   created_at      12 non-null     datetime64[ns]\n",
      " 1   n_tweets        12 non-null     int64         \n",
      " 2   n_unique_users  12 non-null     int64         \n",
      "dtypes: datetime64[ns](1), int64(2)\n",
      "memory usage: 384.0 bytes\n"
     ]
    }
   ],
   "source": [
    "import datetime\n",
    "\n",
    "monthly2020 = monthly[monthly.created_at < datetime.datetime(2021,1,1)]\n",
    "monthly2020.info()"
   ]
  },
  {
   "cell_type": "code",
   "execution_count": null,
   "id": "53e53bc9-13f9-433f-a8a5-e4a112d3e2c0",
   "metadata": {
    "scrolled": true,
    "tags": []
   },
   "outputs": [],
   "source": [
    "import plotly.graph_objects as go\n",
    "from plotly.subplots import make_subplots\n",
    "import numpy as np\n",
    "\n",
    "# Create figure with secondary y-axis\n",
    "fig = make_subplots(specs=[[{\"secondary_y\": True}]])\n",
    "\n",
    "# Add traces\n",
    "fig.add_trace(\n",
    "    go.Scatter(x=monthly2020.created_at, y=monthly2020.n_tweets, name=\"Tweets\", fill='tozeroy', line=dict(color='rgba(53,108,176,1)'), fillcolor='rgba(53,108,176,0.2)'),\n",
    "    secondary_y=False,\n",
    ")\n",
    "\n",
    "fig.add_trace(\n",
    "    go.Scatter(x=monthly2020.created_at, y=monthly2020.n_unique_users, name=\"Unique users\", fill='tozeroy', line=dict(color='rgba(77,175,74,1)'), fillcolor='rgba(77,175,74,0.2)'),\n",
    "    secondary_y=True,\n",
    ")\n",
    "\n",
    "figy = fig.data[0].y\n",
    "figy2 = fig.data[1].y\n",
    "ticksy = list(np.linspace(0, 6e7, endpoint = True, num = 4))[1:]\n",
    "ticksy2 = list(np.linspace(0, 6e6, endpoint = True, num = 4))[1:]\n",
    "\n",
    "\n",
    "fig.update_xaxes(dtick='M1', tickformat=\"%b\", title='Month (2020)')\n",
    "fig.update_yaxes(range=[0, 6e7], secondary_y=False, title='Number of tweets')\n",
    "fig.update_yaxes(range=[0,6e6], secondary_y=True, title='Number of unique users')\n",
    "fig.update_yaxes(tickvals = ticksy, secondary_y=False)\n",
    "fig.update_yaxes(tickvals = ticksy2, secondary_y=True)\n",
    "fig.update_layout(template='seaborn', font=dict(family='Helvetica,FreeSans,Arial'), title='Number of tweets and unique users per month', width=800, height=350,\n",
    "                 legend=dict(yanchor='top', y=1.5, xanchor='right', x=1.05))\n",
    "\n",
    "fig.show()"
   ]
  },
  {
   "cell_type": "code",
   "execution_count": 31,
   "id": "7d138c9c-07bc-4aac-a0c0-9c14489d2314",
   "metadata": {},
   "outputs": [
    {
     "data": {
      "text/plain": [
       "Templates configuration\n",
       "-----------------------\n",
       "    Default template: 'plotly'\n",
       "    Available templates:\n",
       "        ['ggplot2', 'seaborn', 'simple_white', 'plotly',\n",
       "         'plotly_white', 'plotly_dark', 'presentation', 'xgridoff',\n",
       "         'ygridoff', 'gridon', 'none']"
      ]
     },
     "execution_count": 31,
     "metadata": {},
     "output_type": "execute_result"
    }
   ],
   "source": [
    "import plotly.io as pio\n",
    "pio.templates"
   ]
  },
  {
   "cell_type": "code",
   "execution_count": null,
   "id": "ba73e57c-5af4-4677-8604-4ea0faaee076",
   "metadata": {},
   "outputs": [],
   "source": [
    "fig = px.area(monthly2020, x='created_at', y=['n_tweets', 'n_unique_users'])\n",
    "fig.update_traces(stackgroup=None, fill='tozeroy')\n",
    "fig.show()"
   ]
  },
  {
   "cell_type": "code",
   "execution_count": null,
   "id": "51b624d0-2713-4183-b1e6-d3d993d165d0",
   "metadata": {},
   "outputs": [],
   "source": [
    "import plotly.express as px\n",
    "\n",
    "fig = px.area(monthly2020, x='created_at', y=['n_tweets', 'n_unique_users'], title='Number of tweets by month', \n",
    "              labels=dict(n_tweets=\"Tweet count\", created_at=\"Month (2020)\"), template='seaborn')\n",
    "# fig.update_xaxes(nticks=12)\n",
    "fig.update_xaxes(dtick='M1', tickformat=\"%b\")\n",
    "fig.update_yaxes(range=[0,60000000], secondary_y=False)\n",
    "fig.update_yaxes(range=[0,6000000], secondary_y=True)\n",
    "fig.update_layout(font=dict(family='Helvetica,FreeSans,Arial'))\n",
    "fig.update_traces(stackgroup=None, fill='tozeroy')\n",
    "fig.show()\n",
    "\n",
    "# pd.options.plotting.backend = 'plotly'\n",
    "# monthly['n_tweets'].plot.bar(title='Number of tweets by month')"
   ]
  },
  {
   "cell_type": "code",
   "execution_count": 4,
   "id": "8f7a1c55-31d0-43fc-b753-f750516fb022",
   "metadata": {},
   "outputs": [],
   "source": [
    "fig.write_image('../output/n_tweets_unique_users.pdf')"
   ]
  },
  {
   "cell_type": "code",
   "execution_count": null,
   "id": "94b63c43-6fcd-4895-ac48-0faa5b8e0a51",
   "metadata": {},
   "outputs": [],
   "source": [
    "monthly2020['n_unique_users'].plot.line(title='Number of unique users by month')"
   ]
  },
  {
   "cell_type": "code",
   "execution_count": 6,
   "id": "e29fefa8-7771-4a00-bceb-72011511b3a8",
   "metadata": {},
   "outputs": [
    {
     "data": {
      "text/plain": [
       "'2020-06-02'"
      ]
     },
     "execution_count": 6,
     "metadata": {},
     "output_type": "execute_result"
    }
   ],
   "source": [
    "tweets.created_at.dt.date.unique()[0].strftime(\"%Y-%m-%d\")"
   ]
  },
  {
   "cell_type": "code",
   "execution_count": 7,
   "id": "0920301b-9d1a-46e6-8e49-6a857d7f06d7",
   "metadata": {},
   "outputs": [
    {
     "name": "stdout",
     "output_type": "stream",
     "text": [
      "924634\n",
      "924189\n"
     ]
    }
   ],
   "source": [
    "# Number of tweets\n",
    "len(tweets['id_str'].unique())"
   ]
  },
  {
   "cell_type": "code",
   "execution_count": null,
   "id": "2eccb6b0-444b-4916-a161-3e9db4fdb761",
   "metadata": {},
   "outputs": [],
   "source": [
    "len(tweets['user.id_str'].unique()"
   ]
  }
 ],
 "metadata": {
  "kernelspec": {
   "display_name": "Python 3 (ipykernel)",
   "language": "python",
   "name": "python3"
  },
  "language_info": {
   "codemirror_mode": {
    "name": "ipython",
    "version": 3
   },
   "file_extension": ".py",
   "mimetype": "text/x-python",
   "name": "python",
   "nbconvert_exporter": "python",
   "pygments_lexer": "ipython3",
   "version": "3.11.3"
  }
 },
 "nbformat": 4,
 "nbformat_minor": 5
}

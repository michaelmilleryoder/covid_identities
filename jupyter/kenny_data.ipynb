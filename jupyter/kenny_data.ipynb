{
 "cells": [
  {
   "cell_type": "markdown",
   "id": "ed51f3d8-6c5d-4a06-aa1c-abbde58af21f",
   "metadata": {},
   "source": [
    "# Load data\n",
    "Just using pandas on individual shards at least for now.\n",
    "\n",
    "Save out user IDs for each scrape."
   ]
  },
  {
   "cell_type": "code",
   "execution_count": 3,
   "id": "2d8ff4ad-d2ca-4d22-86ae-00b3a8e0f228",
   "metadata": {
    "tags": []
   },
   "outputs": [
    {
     "data": {
      "text/plain": [
       "230"
      ]
     },
     "execution_count": 3,
     "metadata": {},
     "output_type": "execute_result"
    }
   ],
   "source": [
    "from glob import glob\n",
    "import os\n",
    "\n",
    "collection_date = '20170410'\n",
    "# test_dirpath = '../data/kenny_data/collection_20170306/'\n",
    "test_dirpath = '../data/kenny_data/collection_20170410/'\n",
    "fpaths = sorted(glob(os.path.join(test_dirpath, '*_user_info.txt')))\n",
    "len(fpaths)"
   ]
  },
  {
   "cell_type": "code",
   "execution_count": 6,
   "id": "6b78941a-cf11-484e-9d53-212ac392ed24",
   "metadata": {
    "scrolled": true,
    "tags": []
   },
   "outputs": [
    {
     "data": {
      "application/vnd.jupyter.widget-view+json": {
       "model_id": "177b5e8c8a314168ba00ffd67dec3464",
       "version_major": 2,
       "version_minor": 0
      },
      "text/plain": [
       "  0%|          | 0/230 [00:00<?, ?it/s]"
      ]
     },
     "metadata": {},
     "output_type": "display_data"
    },
    {
     "name": "stdout",
     "output_type": "stream",
     "text": [
      "../data/kenny_data/collection_20170410/0_user_info.txt\n"
     ]
    },
    {
     "name": "stderr",
     "output_type": "stream",
     "text": [
      "/tmp/ipykernel_173523/3953082156.py:22: DtypeWarning: Columns (4,7,8,12,18) have mixed types. Specify dtype option on import or set low_memory=False.\n",
      "  dfs.append(pd.read_csv(fpath, sep='\\t', escapechar='\\\\', on_bad_lines='skip',\n"
     ]
    },
    {
     "name": "stdout",
     "output_type": "stream",
     "text": [
      "../data/kenny_data/collection_20170410/100_user_info.txt\n"
     ]
    },
    {
     "name": "stderr",
     "output_type": "stream",
     "text": [
      "/tmp/ipykernel_173523/3953082156.py:22: DtypeWarning: Columns (4,8,12,18) have mixed types. Specify dtype option on import or set low_memory=False.\n",
      "  dfs.append(pd.read_csv(fpath, sep='\\t', escapechar='\\\\', on_bad_lines='skip',\n"
     ]
    },
    {
     "name": "stdout",
     "output_type": "stream",
     "text": [
      "../data/kenny_data/collection_20170410/101_user_info.txt\n"
     ]
    },
    {
     "name": "stderr",
     "output_type": "stream",
     "text": [
      "/tmp/ipykernel_173523/3953082156.py:22: DtypeWarning: Columns (4,8,12,18) have mixed types. Specify dtype option on import or set low_memory=False.\n",
      "  dfs.append(pd.read_csv(fpath, sep='\\t', escapechar='\\\\', on_bad_lines='skip',\n"
     ]
    },
    {
     "name": "stdout",
     "output_type": "stream",
     "text": [
      "../data/kenny_data/collection_20170410/102_user_info.txt\n"
     ]
    },
    {
     "name": "stderr",
     "output_type": "stream",
     "text": [
      "/tmp/ipykernel_173523/3953082156.py:22: DtypeWarning: Columns (4,8,12,18) have mixed types. Specify dtype option on import or set low_memory=False.\n",
      "  dfs.append(pd.read_csv(fpath, sep='\\t', escapechar='\\\\', on_bad_lines='skip',\n"
     ]
    },
    {
     "name": "stdout",
     "output_type": "stream",
     "text": [
      "../data/kenny_data/collection_20170410/103_user_info.txt\n"
     ]
    },
    {
     "name": "stderr",
     "output_type": "stream",
     "text": [
      "/tmp/ipykernel_173523/3953082156.py:22: DtypeWarning: Columns (4,7,8,12,18) have mixed types. Specify dtype option on import or set low_memory=False.\n",
      "  dfs.append(pd.read_csv(fpath, sep='\\t', escapechar='\\\\', on_bad_lines='skip',\n"
     ]
    },
    {
     "name": "stdout",
     "output_type": "stream",
     "text": [
      "../data/kenny_data/collection_20170410/104_user_info.txt\n"
     ]
    },
    {
     "name": "stderr",
     "output_type": "stream",
     "text": [
      "/tmp/ipykernel_173523/3953082156.py:22: DtypeWarning: Columns (4,7,8,12,18) have mixed types. Specify dtype option on import or set low_memory=False.\n",
      "  dfs.append(pd.read_csv(fpath, sep='\\t', escapechar='\\\\', on_bad_lines='skip',\n"
     ]
    },
    {
     "name": "stdout",
     "output_type": "stream",
     "text": [
      "../data/kenny_data/collection_20170410/105_user_info.txt\n"
     ]
    },
    {
     "name": "stderr",
     "output_type": "stream",
     "text": [
      "/tmp/ipykernel_173523/3953082156.py:22: DtypeWarning: Columns (4,8,12,18) have mixed types. Specify dtype option on import or set low_memory=False.\n",
      "  dfs.append(pd.read_csv(fpath, sep='\\t', escapechar='\\\\', on_bad_lines='skip',\n"
     ]
    },
    {
     "name": "stdout",
     "output_type": "stream",
     "text": [
      "../data/kenny_data/collection_20170410/106_user_info.txt\n"
     ]
    },
    {
     "name": "stderr",
     "output_type": "stream",
     "text": [
      "/tmp/ipykernel_173523/3953082156.py:22: DtypeWarning: Columns (4,7,8,12,18) have mixed types. Specify dtype option on import or set low_memory=False.\n",
      "  dfs.append(pd.read_csv(fpath, sep='\\t', escapechar='\\\\', on_bad_lines='skip',\n"
     ]
    },
    {
     "name": "stdout",
     "output_type": "stream",
     "text": [
      "../data/kenny_data/collection_20170410/107_user_info.txt\n"
     ]
    },
    {
     "name": "stderr",
     "output_type": "stream",
     "text": [
      "/tmp/ipykernel_173523/3953082156.py:22: DtypeWarning: Columns (4,7,8,12,18) have mixed types. Specify dtype option on import or set low_memory=False.\n",
      "  dfs.append(pd.read_csv(fpath, sep='\\t', escapechar='\\\\', on_bad_lines='skip',\n"
     ]
    },
    {
     "name": "stdout",
     "output_type": "stream",
     "text": [
      "../data/kenny_data/collection_20170410/108_user_info.txt\n"
     ]
    },
    {
     "name": "stderr",
     "output_type": "stream",
     "text": [
      "/tmp/ipykernel_173523/3953082156.py:22: DtypeWarning: Columns (4,7,8,12,18) have mixed types. Specify dtype option on import or set low_memory=False.\n",
      "  dfs.append(pd.read_csv(fpath, sep='\\t', escapechar='\\\\', on_bad_lines='skip',\n"
     ]
    },
    {
     "name": "stdout",
     "output_type": "stream",
     "text": [
      "../data/kenny_data/collection_20170410/109_user_info.txt\n"
     ]
    },
    {
     "name": "stderr",
     "output_type": "stream",
     "text": [
      "/tmp/ipykernel_173523/3953082156.py:22: DtypeWarning: Columns (4,8,12,18) have mixed types. Specify dtype option on import or set low_memory=False.\n",
      "  dfs.append(pd.read_csv(fpath, sep='\\t', escapechar='\\\\', on_bad_lines='skip',\n"
     ]
    },
    {
     "name": "stdout",
     "output_type": "stream",
     "text": [
      "../data/kenny_data/collection_20170410/10_user_info.txt\n"
     ]
    },
    {
     "name": "stderr",
     "output_type": "stream",
     "text": [
      "/tmp/ipykernel_173523/3953082156.py:22: DtypeWarning: Columns (4,7) have mixed types. Specify dtype option on import or set low_memory=False.\n",
      "  dfs.append(pd.read_csv(fpath, sep='\\t', escapechar='\\\\', on_bad_lines='skip',\n"
     ]
    },
    {
     "name": "stdout",
     "output_type": "stream",
     "text": [
      "../data/kenny_data/collection_20170410/110_user_info.txt\n"
     ]
    },
    {
     "name": "stderr",
     "output_type": "stream",
     "text": [
      "/tmp/ipykernel_173523/3953082156.py:22: DtypeWarning: Columns (4,8,12,18) have mixed types. Specify dtype option on import or set low_memory=False.\n",
      "  dfs.append(pd.read_csv(fpath, sep='\\t', escapechar='\\\\', on_bad_lines='skip',\n"
     ]
    },
    {
     "name": "stdout",
     "output_type": "stream",
     "text": [
      "../data/kenny_data/collection_20170410/111_user_info.txt\n"
     ]
    },
    {
     "name": "stderr",
     "output_type": "stream",
     "text": [
      "/tmp/ipykernel_173523/3953082156.py:22: DtypeWarning: Columns (4,7,8,12,18) have mixed types. Specify dtype option on import or set low_memory=False.\n",
      "  dfs.append(pd.read_csv(fpath, sep='\\t', escapechar='\\\\', on_bad_lines='skip',\n"
     ]
    },
    {
     "name": "stdout",
     "output_type": "stream",
     "text": [
      "../data/kenny_data/collection_20170410/112_user_info.txt\n"
     ]
    },
    {
     "name": "stderr",
     "output_type": "stream",
     "text": [
      "/tmp/ipykernel_173523/3953082156.py:22: DtypeWarning: Columns (4,8,12,18) have mixed types. Specify dtype option on import or set low_memory=False.\n",
      "  dfs.append(pd.read_csv(fpath, sep='\\t', escapechar='\\\\', on_bad_lines='skip',\n"
     ]
    },
    {
     "name": "stdout",
     "output_type": "stream",
     "text": [
      "../data/kenny_data/collection_20170410/113_user_info.txt\n"
     ]
    },
    {
     "name": "stderr",
     "output_type": "stream",
     "text": [
      "/tmp/ipykernel_173523/3953082156.py:22: DtypeWarning: Columns (4,8,12,18) have mixed types. Specify dtype option on import or set low_memory=False.\n",
      "  dfs.append(pd.read_csv(fpath, sep='\\t', escapechar='\\\\', on_bad_lines='skip',\n"
     ]
    },
    {
     "name": "stdout",
     "output_type": "stream",
     "text": [
      "../data/kenny_data/collection_20170410/114_user_info.txt\n"
     ]
    },
    {
     "name": "stderr",
     "output_type": "stream",
     "text": [
      "/tmp/ipykernel_173523/3953082156.py:22: DtypeWarning: Columns (4,7,8,12,18) have mixed types. Specify dtype option on import or set low_memory=False.\n",
      "  dfs.append(pd.read_csv(fpath, sep='\\t', escapechar='\\\\', on_bad_lines='skip',\n"
     ]
    },
    {
     "name": "stdout",
     "output_type": "stream",
     "text": [
      "../data/kenny_data/collection_20170410/115_user_info.txt\n"
     ]
    },
    {
     "name": "stderr",
     "output_type": "stream",
     "text": [
      "/tmp/ipykernel_173523/3953082156.py:22: DtypeWarning: Columns (4,7) have mixed types. Specify dtype option on import or set low_memory=False.\n",
      "  dfs.append(pd.read_csv(fpath, sep='\\t', escapechar='\\\\', on_bad_lines='skip',\n"
     ]
    },
    {
     "name": "stdout",
     "output_type": "stream",
     "text": [
      "../data/kenny_data/collection_20170410/116_user_info.txt\n"
     ]
    },
    {
     "name": "stderr",
     "output_type": "stream",
     "text": [
      "/tmp/ipykernel_173523/3953082156.py:22: DtypeWarning: Columns (4,7,8,12,18) have mixed types. Specify dtype option on import or set low_memory=False.\n",
      "  dfs.append(pd.read_csv(fpath, sep='\\t', escapechar='\\\\', on_bad_lines='skip',\n"
     ]
    },
    {
     "name": "stdout",
     "output_type": "stream",
     "text": [
      "../data/kenny_data/collection_20170410/117_user_info.txt\n"
     ]
    },
    {
     "name": "stderr",
     "output_type": "stream",
     "text": [
      "/tmp/ipykernel_173523/3953082156.py:22: DtypeWarning: Columns (4,8,12,18) have mixed types. Specify dtype option on import or set low_memory=False.\n",
      "  dfs.append(pd.read_csv(fpath, sep='\\t', escapechar='\\\\', on_bad_lines='skip',\n"
     ]
    },
    {
     "name": "stdout",
     "output_type": "stream",
     "text": [
      "../data/kenny_data/collection_20170410/118_user_info.txt\n"
     ]
    },
    {
     "name": "stderr",
     "output_type": "stream",
     "text": [
      "/tmp/ipykernel_173523/3953082156.py:22: DtypeWarning: Columns (4,8,12,18) have mixed types. Specify dtype option on import or set low_memory=False.\n",
      "  dfs.append(pd.read_csv(fpath, sep='\\t', escapechar='\\\\', on_bad_lines='skip',\n"
     ]
    },
    {
     "name": "stdout",
     "output_type": "stream",
     "text": [
      "../data/kenny_data/collection_20170410/119_user_info.txt\n"
     ]
    },
    {
     "name": "stderr",
     "output_type": "stream",
     "text": [
      "/tmp/ipykernel_173523/3953082156.py:22: DtypeWarning: Columns (4,7,8,12,18) have mixed types. Specify dtype option on import or set low_memory=False.\n",
      "  dfs.append(pd.read_csv(fpath, sep='\\t', escapechar='\\\\', on_bad_lines='skip',\n"
     ]
    },
    {
     "name": "stdout",
     "output_type": "stream",
     "text": [
      "../data/kenny_data/collection_20170410/11_user_info.txt\n"
     ]
    },
    {
     "name": "stderr",
     "output_type": "stream",
     "text": [
      "/tmp/ipykernel_173523/3953082156.py:22: DtypeWarning: Columns (4,8,12,18) have mixed types. Specify dtype option on import or set low_memory=False.\n",
      "  dfs.append(pd.read_csv(fpath, sep='\\t', escapechar='\\\\', on_bad_lines='skip',\n"
     ]
    },
    {
     "name": "stdout",
     "output_type": "stream",
     "text": [
      "../data/kenny_data/collection_20170410/120_user_info.txt\n"
     ]
    },
    {
     "name": "stderr",
     "output_type": "stream",
     "text": [
      "/tmp/ipykernel_173523/3953082156.py:22: DtypeWarning: Columns (4) have mixed types. Specify dtype option on import or set low_memory=False.\n",
      "  dfs.append(pd.read_csv(fpath, sep='\\t', escapechar='\\\\', on_bad_lines='skip',\n"
     ]
    },
    {
     "name": "stdout",
     "output_type": "stream",
     "text": [
      "../data/kenny_data/collection_20170410/121_user_info.txt\n"
     ]
    },
    {
     "name": "stderr",
     "output_type": "stream",
     "text": [
      "/tmp/ipykernel_173523/3953082156.py:22: DtypeWarning: Columns (4,7,8,12,18) have mixed types. Specify dtype option on import or set low_memory=False.\n",
      "  dfs.append(pd.read_csv(fpath, sep='\\t', escapechar='\\\\', on_bad_lines='skip',\n"
     ]
    },
    {
     "name": "stdout",
     "output_type": "stream",
     "text": [
      "../data/kenny_data/collection_20170410/122_user_info.txt\n"
     ]
    },
    {
     "name": "stderr",
     "output_type": "stream",
     "text": [
      "/tmp/ipykernel_173523/3953082156.py:22: DtypeWarning: Columns (4,7) have mixed types. Specify dtype option on import or set low_memory=False.\n",
      "  dfs.append(pd.read_csv(fpath, sep='\\t', escapechar='\\\\', on_bad_lines='skip',\n"
     ]
    },
    {
     "name": "stdout",
     "output_type": "stream",
     "text": [
      "../data/kenny_data/collection_20170410/123_user_info.txt\n"
     ]
    },
    {
     "name": "stderr",
     "output_type": "stream",
     "text": [
      "/tmp/ipykernel_173523/3953082156.py:22: DtypeWarning: Columns (4,7,8,12,18) have mixed types. Specify dtype option on import or set low_memory=False.\n",
      "  dfs.append(pd.read_csv(fpath, sep='\\t', escapechar='\\\\', on_bad_lines='skip',\n"
     ]
    },
    {
     "name": "stdout",
     "output_type": "stream",
     "text": [
      "../data/kenny_data/collection_20170410/124_user_info.txt\n"
     ]
    },
    {
     "name": "stderr",
     "output_type": "stream",
     "text": [
      "/tmp/ipykernel_173523/3953082156.py:22: DtypeWarning: Columns (4,8,12,18) have mixed types. Specify dtype option on import or set low_memory=False.\n",
      "  dfs.append(pd.read_csv(fpath, sep='\\t', escapechar='\\\\', on_bad_lines='skip',\n"
     ]
    },
    {
     "name": "stdout",
     "output_type": "stream",
     "text": [
      "../data/kenny_data/collection_20170410/125_user_info.txt\n"
     ]
    },
    {
     "name": "stderr",
     "output_type": "stream",
     "text": [
      "/tmp/ipykernel_173523/3953082156.py:22: DtypeWarning: Columns (4,8,12,18) have mixed types. Specify dtype option on import or set low_memory=False.\n",
      "  dfs.append(pd.read_csv(fpath, sep='\\t', escapechar='\\\\', on_bad_lines='skip',\n"
     ]
    },
    {
     "name": "stdout",
     "output_type": "stream",
     "text": [
      "../data/kenny_data/collection_20170410/126_user_info.txt\n"
     ]
    },
    {
     "name": "stderr",
     "output_type": "stream",
     "text": [
      "/tmp/ipykernel_173523/3953082156.py:22: DtypeWarning: Columns (4,7,8,12,18) have mixed types. Specify dtype option on import or set low_memory=False.\n",
      "  dfs.append(pd.read_csv(fpath, sep='\\t', escapechar='\\\\', on_bad_lines='skip',\n"
     ]
    },
    {
     "name": "stdout",
     "output_type": "stream",
     "text": [
      "../data/kenny_data/collection_20170410/127_user_info.txt\n"
     ]
    },
    {
     "name": "stderr",
     "output_type": "stream",
     "text": [
      "/tmp/ipykernel_173523/3953082156.py:22: DtypeWarning: Columns (4,8,12,18) have mixed types. Specify dtype option on import or set low_memory=False.\n",
      "  dfs.append(pd.read_csv(fpath, sep='\\t', escapechar='\\\\', on_bad_lines='skip',\n"
     ]
    },
    {
     "name": "stdout",
     "output_type": "stream",
     "text": [
      "../data/kenny_data/collection_20170410/128_user_info.txt\n"
     ]
    },
    {
     "name": "stderr",
     "output_type": "stream",
     "text": [
      "/tmp/ipykernel_173523/3953082156.py:22: DtypeWarning: Columns (4,7,8,12,18) have mixed types. Specify dtype option on import or set low_memory=False.\n",
      "  dfs.append(pd.read_csv(fpath, sep='\\t', escapechar='\\\\', on_bad_lines='skip',\n"
     ]
    },
    {
     "name": "stdout",
     "output_type": "stream",
     "text": [
      "../data/kenny_data/collection_20170410/129_user_info.txt\n"
     ]
    },
    {
     "name": "stderr",
     "output_type": "stream",
     "text": [
      "/tmp/ipykernel_173523/3953082156.py:22: DtypeWarning: Columns (4,7,8,12,18) have mixed types. Specify dtype option on import or set low_memory=False.\n",
      "  dfs.append(pd.read_csv(fpath, sep='\\t', escapechar='\\\\', on_bad_lines='skip',\n"
     ]
    },
    {
     "name": "stdout",
     "output_type": "stream",
     "text": [
      "../data/kenny_data/collection_20170410/12_user_info.txt\n"
     ]
    },
    {
     "name": "stderr",
     "output_type": "stream",
     "text": [
      "/tmp/ipykernel_173523/3953082156.py:22: DtypeWarning: Columns (4,8,12,18) have mixed types. Specify dtype option on import or set low_memory=False.\n",
      "  dfs.append(pd.read_csv(fpath, sep='\\t', escapechar='\\\\', on_bad_lines='skip',\n"
     ]
    },
    {
     "name": "stdout",
     "output_type": "stream",
     "text": [
      "../data/kenny_data/collection_20170410/130_user_info.txt\n"
     ]
    },
    {
     "name": "stderr",
     "output_type": "stream",
     "text": [
      "/tmp/ipykernel_173523/3953082156.py:22: DtypeWarning: Columns (4,7,8,12,18) have mixed types. Specify dtype option on import or set low_memory=False.\n",
      "  dfs.append(pd.read_csv(fpath, sep='\\t', escapechar='\\\\', on_bad_lines='skip',\n"
     ]
    },
    {
     "name": "stdout",
     "output_type": "stream",
     "text": [
      "../data/kenny_data/collection_20170410/131_user_info.txt\n"
     ]
    },
    {
     "name": "stderr",
     "output_type": "stream",
     "text": [
      "/tmp/ipykernel_173523/3953082156.py:22: DtypeWarning: Columns (4,7,8,12,18) have mixed types. Specify dtype option on import or set low_memory=False.\n",
      "  dfs.append(pd.read_csv(fpath, sep='\\t', escapechar='\\\\', on_bad_lines='skip',\n"
     ]
    },
    {
     "name": "stdout",
     "output_type": "stream",
     "text": [
      "../data/kenny_data/collection_20170410/132_user_info.txt\n"
     ]
    },
    {
     "name": "stderr",
     "output_type": "stream",
     "text": [
      "/tmp/ipykernel_173523/3953082156.py:22: DtypeWarning: Columns (4,7,8,12,18) have mixed types. Specify dtype option on import or set low_memory=False.\n",
      "  dfs.append(pd.read_csv(fpath, sep='\\t', escapechar='\\\\', on_bad_lines='skip',\n"
     ]
    },
    {
     "name": "stdout",
     "output_type": "stream",
     "text": [
      "../data/kenny_data/collection_20170410/133_user_info.txt\n"
     ]
    },
    {
     "name": "stderr",
     "output_type": "stream",
     "text": [
      "/tmp/ipykernel_173523/3953082156.py:22: DtypeWarning: Columns (4,7) have mixed types. Specify dtype option on import or set low_memory=False.\n",
      "  dfs.append(pd.read_csv(fpath, sep='\\t', escapechar='\\\\', on_bad_lines='skip',\n"
     ]
    },
    {
     "name": "stdout",
     "output_type": "stream",
     "text": [
      "../data/kenny_data/collection_20170410/134_user_info.txt\n"
     ]
    },
    {
     "name": "stderr",
     "output_type": "stream",
     "text": [
      "/tmp/ipykernel_173523/3953082156.py:22: DtypeWarning: Columns (4,7,8,12,18) have mixed types. Specify dtype option on import or set low_memory=False.\n",
      "  dfs.append(pd.read_csv(fpath, sep='\\t', escapechar='\\\\', on_bad_lines='skip',\n"
     ]
    },
    {
     "name": "stdout",
     "output_type": "stream",
     "text": [
      "../data/kenny_data/collection_20170410/135_user_info.txt\n"
     ]
    },
    {
     "name": "stderr",
     "output_type": "stream",
     "text": [
      "/tmp/ipykernel_173523/3953082156.py:22: DtypeWarning: Columns (4,8,12,18) have mixed types. Specify dtype option on import or set low_memory=False.\n",
      "  dfs.append(pd.read_csv(fpath, sep='\\t', escapechar='\\\\', on_bad_lines='skip',\n"
     ]
    },
    {
     "name": "stdout",
     "output_type": "stream",
     "text": [
      "../data/kenny_data/collection_20170410/136_user_info.txt\n"
     ]
    },
    {
     "name": "stderr",
     "output_type": "stream",
     "text": [
      "/tmp/ipykernel_173523/3953082156.py:22: DtypeWarning: Columns (4,8,12,18) have mixed types. Specify dtype option on import or set low_memory=False.\n",
      "  dfs.append(pd.read_csv(fpath, sep='\\t', escapechar='\\\\', on_bad_lines='skip',\n"
     ]
    },
    {
     "name": "stdout",
     "output_type": "stream",
     "text": [
      "../data/kenny_data/collection_20170410/137_user_info.txt\n"
     ]
    },
    {
     "name": "stderr",
     "output_type": "stream",
     "text": [
      "/tmp/ipykernel_173523/3953082156.py:22: DtypeWarning: Columns (4,7,8,12,18) have mixed types. Specify dtype option on import or set low_memory=False.\n",
      "  dfs.append(pd.read_csv(fpath, sep='\\t', escapechar='\\\\', on_bad_lines='skip',\n"
     ]
    },
    {
     "name": "stdout",
     "output_type": "stream",
     "text": [
      "../data/kenny_data/collection_20170410/138_user_info.txt\n"
     ]
    },
    {
     "name": "stderr",
     "output_type": "stream",
     "text": [
      "/tmp/ipykernel_173523/3953082156.py:22: DtypeWarning: Columns (4,7,8,12,18) have mixed types. Specify dtype option on import or set low_memory=False.\n",
      "  dfs.append(pd.read_csv(fpath, sep='\\t', escapechar='\\\\', on_bad_lines='skip',\n"
     ]
    },
    {
     "name": "stdout",
     "output_type": "stream",
     "text": [
      "../data/kenny_data/collection_20170410/139_user_info.txt\n"
     ]
    },
    {
     "name": "stderr",
     "output_type": "stream",
     "text": [
      "/tmp/ipykernel_173523/3953082156.py:22: DtypeWarning: Columns (4,7,8,12,18) have mixed types. Specify dtype option on import or set low_memory=False.\n",
      "  dfs.append(pd.read_csv(fpath, sep='\\t', escapechar='\\\\', on_bad_lines='skip',\n"
     ]
    },
    {
     "name": "stdout",
     "output_type": "stream",
     "text": [
      "../data/kenny_data/collection_20170410/13_user_info.txt\n"
     ]
    },
    {
     "name": "stderr",
     "output_type": "stream",
     "text": [
      "/tmp/ipykernel_173523/3953082156.py:22: DtypeWarning: Columns (4,7,8,12,18) have mixed types. Specify dtype option on import or set low_memory=False.\n",
      "  dfs.append(pd.read_csv(fpath, sep='\\t', escapechar='\\\\', on_bad_lines='skip',\n"
     ]
    },
    {
     "name": "stdout",
     "output_type": "stream",
     "text": [
      "../data/kenny_data/collection_20170410/140_user_info.txt\n"
     ]
    },
    {
     "name": "stderr",
     "output_type": "stream",
     "text": [
      "/tmp/ipykernel_173523/3953082156.py:22: DtypeWarning: Columns (4,7,8,12,18) have mixed types. Specify dtype option on import or set low_memory=False.\n",
      "  dfs.append(pd.read_csv(fpath, sep='\\t', escapechar='\\\\', on_bad_lines='skip',\n"
     ]
    },
    {
     "name": "stdout",
     "output_type": "stream",
     "text": [
      "../data/kenny_data/collection_20170410/141_user_info.txt\n"
     ]
    },
    {
     "name": "stderr",
     "output_type": "stream",
     "text": [
      "/tmp/ipykernel_173523/3953082156.py:22: DtypeWarning: Columns (4) have mixed types. Specify dtype option on import or set low_memory=False.\n",
      "  dfs.append(pd.read_csv(fpath, sep='\\t', escapechar='\\\\', on_bad_lines='skip',\n"
     ]
    },
    {
     "name": "stdout",
     "output_type": "stream",
     "text": [
      "../data/kenny_data/collection_20170410/142_user_info.txt\n"
     ]
    },
    {
     "name": "stderr",
     "output_type": "stream",
     "text": [
      "/tmp/ipykernel_173523/3953082156.py:22: DtypeWarning: Columns (4,7,8,12,18) have mixed types. Specify dtype option on import or set low_memory=False.\n",
      "  dfs.append(pd.read_csv(fpath, sep='\\t', escapechar='\\\\', on_bad_lines='skip',\n"
     ]
    },
    {
     "name": "stdout",
     "output_type": "stream",
     "text": [
      "../data/kenny_data/collection_20170410/143_user_info.txt\n"
     ]
    },
    {
     "name": "stderr",
     "output_type": "stream",
     "text": [
      "/tmp/ipykernel_173523/3953082156.py:22: DtypeWarning: Columns (4,8,12,18) have mixed types. Specify dtype option on import or set low_memory=False.\n",
      "  dfs.append(pd.read_csv(fpath, sep='\\t', escapechar='\\\\', on_bad_lines='skip',\n"
     ]
    },
    {
     "name": "stdout",
     "output_type": "stream",
     "text": [
      "../data/kenny_data/collection_20170410/144_user_info.txt\n"
     ]
    },
    {
     "name": "stderr",
     "output_type": "stream",
     "text": [
      "/tmp/ipykernel_173523/3953082156.py:22: DtypeWarning: Columns (4,8,12,18) have mixed types. Specify dtype option on import or set low_memory=False.\n",
      "  dfs.append(pd.read_csv(fpath, sep='\\t', escapechar='\\\\', on_bad_lines='skip',\n"
     ]
    },
    {
     "name": "stdout",
     "output_type": "stream",
     "text": [
      "../data/kenny_data/collection_20170410/145_user_info.txt\n"
     ]
    },
    {
     "name": "stderr",
     "output_type": "stream",
     "text": [
      "/tmp/ipykernel_173523/3953082156.py:22: DtypeWarning: Columns (4,7,8,12,18) have mixed types. Specify dtype option on import or set low_memory=False.\n",
      "  dfs.append(pd.read_csv(fpath, sep='\\t', escapechar='\\\\', on_bad_lines='skip',\n"
     ]
    },
    {
     "name": "stdout",
     "output_type": "stream",
     "text": [
      "../data/kenny_data/collection_20170410/146_user_info.txt\n"
     ]
    },
    {
     "name": "stderr",
     "output_type": "stream",
     "text": [
      "/tmp/ipykernel_173523/3953082156.py:22: DtypeWarning: Columns (4,8,12,18) have mixed types. Specify dtype option on import or set low_memory=False.\n",
      "  dfs.append(pd.read_csv(fpath, sep='\\t', escapechar='\\\\', on_bad_lines='skip',\n"
     ]
    },
    {
     "name": "stdout",
     "output_type": "stream",
     "text": [
      "../data/kenny_data/collection_20170410/147_user_info.txt\n"
     ]
    },
    {
     "name": "stderr",
     "output_type": "stream",
     "text": [
      "/tmp/ipykernel_173523/3953082156.py:22: DtypeWarning: Columns (4,8,12,18) have mixed types. Specify dtype option on import or set low_memory=False.\n",
      "  dfs.append(pd.read_csv(fpath, sep='\\t', escapechar='\\\\', on_bad_lines='skip',\n"
     ]
    },
    {
     "name": "stdout",
     "output_type": "stream",
     "text": [
      "../data/kenny_data/collection_20170410/148_user_info.txt\n"
     ]
    },
    {
     "name": "stderr",
     "output_type": "stream",
     "text": [
      "/tmp/ipykernel_173523/3953082156.py:22: DtypeWarning: Columns (4,7,8,12,18) have mixed types. Specify dtype option on import or set low_memory=False.\n",
      "  dfs.append(pd.read_csv(fpath, sep='\\t', escapechar='\\\\', on_bad_lines='skip',\n"
     ]
    },
    {
     "name": "stdout",
     "output_type": "stream",
     "text": [
      "../data/kenny_data/collection_20170410/149_user_info.txt\n"
     ]
    },
    {
     "name": "stderr",
     "output_type": "stream",
     "text": [
      "/tmp/ipykernel_173523/3953082156.py:22: DtypeWarning: Columns (4,7) have mixed types. Specify dtype option on import or set low_memory=False.\n",
      "  dfs.append(pd.read_csv(fpath, sep='\\t', escapechar='\\\\', on_bad_lines='skip',\n"
     ]
    },
    {
     "name": "stdout",
     "output_type": "stream",
     "text": [
      "../data/kenny_data/collection_20170410/14_user_info.txt\n"
     ]
    },
    {
     "name": "stderr",
     "output_type": "stream",
     "text": [
      "/tmp/ipykernel_173523/3953082156.py:22: DtypeWarning: Columns (4,7) have mixed types. Specify dtype option on import or set low_memory=False.\n",
      "  dfs.append(pd.read_csv(fpath, sep='\\t', escapechar='\\\\', on_bad_lines='skip',\n"
     ]
    },
    {
     "name": "stdout",
     "output_type": "stream",
     "text": [
      "../data/kenny_data/collection_20170410/150_user_info.txt\n"
     ]
    },
    {
     "name": "stderr",
     "output_type": "stream",
     "text": [
      "/tmp/ipykernel_173523/3953082156.py:22: DtypeWarning: Columns (4,7,8,12,18) have mixed types. Specify dtype option on import or set low_memory=False.\n",
      "  dfs.append(pd.read_csv(fpath, sep='\\t', escapechar='\\\\', on_bad_lines='skip',\n"
     ]
    },
    {
     "name": "stdout",
     "output_type": "stream",
     "text": [
      "../data/kenny_data/collection_20170410/151_user_info.txt\n"
     ]
    },
    {
     "name": "stderr",
     "output_type": "stream",
     "text": [
      "/tmp/ipykernel_173523/3953082156.py:22: DtypeWarning: Columns (4,7,8,12,18) have mixed types. Specify dtype option on import or set low_memory=False.\n",
      "  dfs.append(pd.read_csv(fpath, sep='\\t', escapechar='\\\\', on_bad_lines='skip',\n"
     ]
    },
    {
     "name": "stdout",
     "output_type": "stream",
     "text": [
      "../data/kenny_data/collection_20170410/152_user_info.txt\n"
     ]
    },
    {
     "name": "stderr",
     "output_type": "stream",
     "text": [
      "/tmp/ipykernel_173523/3953082156.py:22: DtypeWarning: Columns (4,8,12,18) have mixed types. Specify dtype option on import or set low_memory=False.\n",
      "  dfs.append(pd.read_csv(fpath, sep='\\t', escapechar='\\\\', on_bad_lines='skip',\n"
     ]
    },
    {
     "name": "stdout",
     "output_type": "stream",
     "text": [
      "../data/kenny_data/collection_20170410/153_user_info.txt\n"
     ]
    },
    {
     "name": "stderr",
     "output_type": "stream",
     "text": [
      "/tmp/ipykernel_173523/3953082156.py:22: DtypeWarning: Columns (4,7,8,12,18) have mixed types. Specify dtype option on import or set low_memory=False.\n",
      "  dfs.append(pd.read_csv(fpath, sep='\\t', escapechar='\\\\', on_bad_lines='skip',\n"
     ]
    },
    {
     "name": "stdout",
     "output_type": "stream",
     "text": [
      "../data/kenny_data/collection_20170410/154_user_info.txt\n"
     ]
    },
    {
     "name": "stderr",
     "output_type": "stream",
     "text": [
      "/tmp/ipykernel_173523/3953082156.py:22: DtypeWarning: Columns (4,7,8,12,18) have mixed types. Specify dtype option on import or set low_memory=False.\n",
      "  dfs.append(pd.read_csv(fpath, sep='\\t', escapechar='\\\\', on_bad_lines='skip',\n"
     ]
    },
    {
     "name": "stdout",
     "output_type": "stream",
     "text": [
      "../data/kenny_data/collection_20170410/155_user_info.txt\n"
     ]
    },
    {
     "name": "stderr",
     "output_type": "stream",
     "text": [
      "/tmp/ipykernel_173523/3953082156.py:22: DtypeWarning: Columns (4,8,12,18) have mixed types. Specify dtype option on import or set low_memory=False.\n",
      "  dfs.append(pd.read_csv(fpath, sep='\\t', escapechar='\\\\', on_bad_lines='skip',\n"
     ]
    },
    {
     "name": "stdout",
     "output_type": "stream",
     "text": [
      "../data/kenny_data/collection_20170410/156_user_info.txt\n"
     ]
    },
    {
     "name": "stderr",
     "output_type": "stream",
     "text": [
      "/tmp/ipykernel_173523/3953082156.py:22: DtypeWarning: Columns (4,7,8,12,18) have mixed types. Specify dtype option on import or set low_memory=False.\n",
      "  dfs.append(pd.read_csv(fpath, sep='\\t', escapechar='\\\\', on_bad_lines='skip',\n"
     ]
    },
    {
     "name": "stdout",
     "output_type": "stream",
     "text": [
      "../data/kenny_data/collection_20170410/157_user_info.txt\n"
     ]
    },
    {
     "name": "stderr",
     "output_type": "stream",
     "text": [
      "/tmp/ipykernel_173523/3953082156.py:22: DtypeWarning: Columns (4,7,8,12,18) have mixed types. Specify dtype option on import or set low_memory=False.\n",
      "  dfs.append(pd.read_csv(fpath, sep='\\t', escapechar='\\\\', on_bad_lines='skip',\n"
     ]
    },
    {
     "name": "stdout",
     "output_type": "stream",
     "text": [
      "../data/kenny_data/collection_20170410/158_user_info.txt\n"
     ]
    },
    {
     "name": "stderr",
     "output_type": "stream",
     "text": [
      "/tmp/ipykernel_173523/3953082156.py:22: DtypeWarning: Columns (4,8,12,18) have mixed types. Specify dtype option on import or set low_memory=False.\n",
      "  dfs.append(pd.read_csv(fpath, sep='\\t', escapechar='\\\\', on_bad_lines='skip',\n"
     ]
    },
    {
     "name": "stdout",
     "output_type": "stream",
     "text": [
      "../data/kenny_data/collection_20170410/159_user_info.txt\n"
     ]
    },
    {
     "name": "stderr",
     "output_type": "stream",
     "text": [
      "/tmp/ipykernel_173523/3953082156.py:22: DtypeWarning: Columns (4,8,12,18) have mixed types. Specify dtype option on import or set low_memory=False.\n",
      "  dfs.append(pd.read_csv(fpath, sep='\\t', escapechar='\\\\', on_bad_lines='skip',\n"
     ]
    },
    {
     "name": "stdout",
     "output_type": "stream",
     "text": [
      "../data/kenny_data/collection_20170410/15_user_info.txt\n"
     ]
    },
    {
     "name": "stderr",
     "output_type": "stream",
     "text": [
      "/tmp/ipykernel_173523/3953082156.py:22: DtypeWarning: Columns (4,7,8,12,18) have mixed types. Specify dtype option on import or set low_memory=False.\n",
      "  dfs.append(pd.read_csv(fpath, sep='\\t', escapechar='\\\\', on_bad_lines='skip',\n"
     ]
    },
    {
     "name": "stdout",
     "output_type": "stream",
     "text": [
      "../data/kenny_data/collection_20170410/160_user_info.txt\n"
     ]
    },
    {
     "name": "stderr",
     "output_type": "stream",
     "text": [
      "/tmp/ipykernel_173523/3953082156.py:22: DtypeWarning: Columns (4,7,8,12,18) have mixed types. Specify dtype option on import or set low_memory=False.\n",
      "  dfs.append(pd.read_csv(fpath, sep='\\t', escapechar='\\\\', on_bad_lines='skip',\n"
     ]
    },
    {
     "name": "stdout",
     "output_type": "stream",
     "text": [
      "../data/kenny_data/collection_20170410/161_user_info.txt\n"
     ]
    },
    {
     "name": "stderr",
     "output_type": "stream",
     "text": [
      "/tmp/ipykernel_173523/3953082156.py:22: DtypeWarning: Columns (4,7,8,12,18) have mixed types. Specify dtype option on import or set low_memory=False.\n",
      "  dfs.append(pd.read_csv(fpath, sep='\\t', escapechar='\\\\', on_bad_lines='skip',\n"
     ]
    },
    {
     "name": "stdout",
     "output_type": "stream",
     "text": [
      "../data/kenny_data/collection_20170410/162_user_info.txt\n"
     ]
    },
    {
     "name": "stderr",
     "output_type": "stream",
     "text": [
      "/tmp/ipykernel_173523/3953082156.py:22: DtypeWarning: Columns (4,8,12,18) have mixed types. Specify dtype option on import or set low_memory=False.\n",
      "  dfs.append(pd.read_csv(fpath, sep='\\t', escapechar='\\\\', on_bad_lines='skip',\n"
     ]
    },
    {
     "name": "stdout",
     "output_type": "stream",
     "text": [
      "../data/kenny_data/collection_20170410/163_user_info.txt\n"
     ]
    },
    {
     "name": "stderr",
     "output_type": "stream",
     "text": [
      "/tmp/ipykernel_173523/3953082156.py:22: DtypeWarning: Columns (4,8,12,18) have mixed types. Specify dtype option on import or set low_memory=False.\n",
      "  dfs.append(pd.read_csv(fpath, sep='\\t', escapechar='\\\\', on_bad_lines='skip',\n"
     ]
    },
    {
     "name": "stdout",
     "output_type": "stream",
     "text": [
      "../data/kenny_data/collection_20170410/164_user_info.txt\n"
     ]
    },
    {
     "name": "stderr",
     "output_type": "stream",
     "text": [
      "/tmp/ipykernel_173523/3953082156.py:22: DtypeWarning: Columns (4,7,8,12,18) have mixed types. Specify dtype option on import or set low_memory=False.\n",
      "  dfs.append(pd.read_csv(fpath, sep='\\t', escapechar='\\\\', on_bad_lines='skip',\n"
     ]
    },
    {
     "name": "stdout",
     "output_type": "stream",
     "text": [
      "../data/kenny_data/collection_20170410/165_user_info.txt\n"
     ]
    },
    {
     "name": "stderr",
     "output_type": "stream",
     "text": [
      "/tmp/ipykernel_173523/3953082156.py:22: DtypeWarning: Columns (4,8,12,18) have mixed types. Specify dtype option on import or set low_memory=False.\n",
      "  dfs.append(pd.read_csv(fpath, sep='\\t', escapechar='\\\\', on_bad_lines='skip',\n"
     ]
    },
    {
     "name": "stdout",
     "output_type": "stream",
     "text": [
      "../data/kenny_data/collection_20170410/166_user_info.txt\n"
     ]
    },
    {
     "name": "stderr",
     "output_type": "stream",
     "text": [
      "/tmp/ipykernel_173523/3953082156.py:22: DtypeWarning: Columns (4,7,8,12,18) have mixed types. Specify dtype option on import or set low_memory=False.\n",
      "  dfs.append(pd.read_csv(fpath, sep='\\t', escapechar='\\\\', on_bad_lines='skip',\n"
     ]
    },
    {
     "name": "stdout",
     "output_type": "stream",
     "text": [
      "../data/kenny_data/collection_20170410/167_user_info.txt\n"
     ]
    },
    {
     "name": "stderr",
     "output_type": "stream",
     "text": [
      "/tmp/ipykernel_173523/3953082156.py:22: DtypeWarning: Columns (4,7,8,12,18) have mixed types. Specify dtype option on import or set low_memory=False.\n",
      "  dfs.append(pd.read_csv(fpath, sep='\\t', escapechar='\\\\', on_bad_lines='skip',\n"
     ]
    },
    {
     "name": "stdout",
     "output_type": "stream",
     "text": [
      "../data/kenny_data/collection_20170410/168_user_info.txt\n"
     ]
    },
    {
     "name": "stderr",
     "output_type": "stream",
     "text": [
      "/tmp/ipykernel_173523/3953082156.py:22: DtypeWarning: Columns (4,8,12,18) have mixed types. Specify dtype option on import or set low_memory=False.\n",
      "  dfs.append(pd.read_csv(fpath, sep='\\t', escapechar='\\\\', on_bad_lines='skip',\n"
     ]
    },
    {
     "name": "stdout",
     "output_type": "stream",
     "text": [
      "../data/kenny_data/collection_20170410/169_user_info.txt\n"
     ]
    },
    {
     "name": "stderr",
     "output_type": "stream",
     "text": [
      "/tmp/ipykernel_173523/3953082156.py:22: DtypeWarning: Columns (4,7,8,12,18) have mixed types. Specify dtype option on import or set low_memory=False.\n",
      "  dfs.append(pd.read_csv(fpath, sep='\\t', escapechar='\\\\', on_bad_lines='skip',\n"
     ]
    },
    {
     "name": "stdout",
     "output_type": "stream",
     "text": [
      "../data/kenny_data/collection_20170410/16_user_info.txt\n"
     ]
    },
    {
     "name": "stderr",
     "output_type": "stream",
     "text": [
      "/tmp/ipykernel_173523/3953082156.py:22: DtypeWarning: Columns (4,8,12,18) have mixed types. Specify dtype option on import or set low_memory=False.\n",
      "  dfs.append(pd.read_csv(fpath, sep='\\t', escapechar='\\\\', on_bad_lines='skip',\n"
     ]
    },
    {
     "name": "stdout",
     "output_type": "stream",
     "text": [
      "../data/kenny_data/collection_20170410/170_user_info.txt\n"
     ]
    },
    {
     "name": "stderr",
     "output_type": "stream",
     "text": [
      "/tmp/ipykernel_173523/3953082156.py:22: DtypeWarning: Columns (4,8,12,18) have mixed types. Specify dtype option on import or set low_memory=False.\n",
      "  dfs.append(pd.read_csv(fpath, sep='\\t', escapechar='\\\\', on_bad_lines='skip',\n"
     ]
    },
    {
     "name": "stdout",
     "output_type": "stream",
     "text": [
      "../data/kenny_data/collection_20170410/171_user_info.txt\n"
     ]
    },
    {
     "name": "stderr",
     "output_type": "stream",
     "text": [
      "/tmp/ipykernel_173523/3953082156.py:22: DtypeWarning: Columns (4,8,12,18) have mixed types. Specify dtype option on import or set low_memory=False.\n",
      "  dfs.append(pd.read_csv(fpath, sep='\\t', escapechar='\\\\', on_bad_lines='skip',\n"
     ]
    },
    {
     "name": "stdout",
     "output_type": "stream",
     "text": [
      "../data/kenny_data/collection_20170410/172_user_info.txt\n"
     ]
    },
    {
     "name": "stderr",
     "output_type": "stream",
     "text": [
      "/tmp/ipykernel_173523/3953082156.py:22: DtypeWarning: Columns (4,7,8,12,18) have mixed types. Specify dtype option on import or set low_memory=False.\n",
      "  dfs.append(pd.read_csv(fpath, sep='\\t', escapechar='\\\\', on_bad_lines='skip',\n"
     ]
    },
    {
     "name": "stdout",
     "output_type": "stream",
     "text": [
      "../data/kenny_data/collection_20170410/173_user_info.txt\n"
     ]
    },
    {
     "name": "stderr",
     "output_type": "stream",
     "text": [
      "/tmp/ipykernel_173523/3953082156.py:22: DtypeWarning: Columns (4,7,8,12,18) have mixed types. Specify dtype option on import or set low_memory=False.\n",
      "  dfs.append(pd.read_csv(fpath, sep='\\t', escapechar='\\\\', on_bad_lines='skip',\n"
     ]
    },
    {
     "name": "stdout",
     "output_type": "stream",
     "text": [
      "../data/kenny_data/collection_20170410/174_user_info.txt\n"
     ]
    },
    {
     "name": "stderr",
     "output_type": "stream",
     "text": [
      "/tmp/ipykernel_173523/3953082156.py:22: DtypeWarning: Columns (4,7,8,12,18) have mixed types. Specify dtype option on import or set low_memory=False.\n",
      "  dfs.append(pd.read_csv(fpath, sep='\\t', escapechar='\\\\', on_bad_lines='skip',\n"
     ]
    },
    {
     "name": "stdout",
     "output_type": "stream",
     "text": [
      "../data/kenny_data/collection_20170410/175_user_info.txt\n"
     ]
    },
    {
     "name": "stderr",
     "output_type": "stream",
     "text": [
      "/tmp/ipykernel_173523/3953082156.py:22: DtypeWarning: Columns (4,8,12,18) have mixed types. Specify dtype option on import or set low_memory=False.\n",
      "  dfs.append(pd.read_csv(fpath, sep='\\t', escapechar='\\\\', on_bad_lines='skip',\n"
     ]
    },
    {
     "name": "stdout",
     "output_type": "stream",
     "text": [
      "../data/kenny_data/collection_20170410/176_user_info.txt\n"
     ]
    },
    {
     "name": "stderr",
     "output_type": "stream",
     "text": [
      "/tmp/ipykernel_173523/3953082156.py:22: DtypeWarning: Columns (4) have mixed types. Specify dtype option on import or set low_memory=False.\n",
      "  dfs.append(pd.read_csv(fpath, sep='\\t', escapechar='\\\\', on_bad_lines='skip',\n"
     ]
    },
    {
     "name": "stdout",
     "output_type": "stream",
     "text": [
      "../data/kenny_data/collection_20170410/177_user_info.txt\n"
     ]
    },
    {
     "name": "stderr",
     "output_type": "stream",
     "text": [
      "/tmp/ipykernel_173523/3953082156.py:22: DtypeWarning: Columns (4,7,8,12,18) have mixed types. Specify dtype option on import or set low_memory=False.\n",
      "  dfs.append(pd.read_csv(fpath, sep='\\t', escapechar='\\\\', on_bad_lines='skip',\n"
     ]
    },
    {
     "name": "stdout",
     "output_type": "stream",
     "text": [
      "../data/kenny_data/collection_20170410/178_user_info.txt\n"
     ]
    },
    {
     "name": "stderr",
     "output_type": "stream",
     "text": [
      "/tmp/ipykernel_173523/3953082156.py:22: DtypeWarning: Columns (4,7,8,12,18) have mixed types. Specify dtype option on import or set low_memory=False.\n",
      "  dfs.append(pd.read_csv(fpath, sep='\\t', escapechar='\\\\', on_bad_lines='skip',\n"
     ]
    },
    {
     "name": "stdout",
     "output_type": "stream",
     "text": [
      "../data/kenny_data/collection_20170410/179_user_info.txt\n"
     ]
    },
    {
     "name": "stderr",
     "output_type": "stream",
     "text": [
      "/tmp/ipykernel_173523/3953082156.py:22: DtypeWarning: Columns (4,7,8,12,18) have mixed types. Specify dtype option on import or set low_memory=False.\n",
      "  dfs.append(pd.read_csv(fpath, sep='\\t', escapechar='\\\\', on_bad_lines='skip',\n"
     ]
    },
    {
     "name": "stdout",
     "output_type": "stream",
     "text": [
      "../data/kenny_data/collection_20170410/17_user_info.txt\n"
     ]
    },
    {
     "name": "stderr",
     "output_type": "stream",
     "text": [
      "/tmp/ipykernel_173523/3953082156.py:22: DtypeWarning: Columns (4) have mixed types. Specify dtype option on import or set low_memory=False.\n",
      "  dfs.append(pd.read_csv(fpath, sep='\\t', escapechar='\\\\', on_bad_lines='skip',\n"
     ]
    },
    {
     "name": "stdout",
     "output_type": "stream",
     "text": [
      "../data/kenny_data/collection_20170410/180_user_info.txt\n"
     ]
    },
    {
     "name": "stderr",
     "output_type": "stream",
     "text": [
      "/tmp/ipykernel_173523/3953082156.py:22: DtypeWarning: Columns (4,7,8,12,18) have mixed types. Specify dtype option on import or set low_memory=False.\n",
      "  dfs.append(pd.read_csv(fpath, sep='\\t', escapechar='\\\\', on_bad_lines='skip',\n"
     ]
    },
    {
     "name": "stdout",
     "output_type": "stream",
     "text": [
      "../data/kenny_data/collection_20170410/181_user_info.txt\n"
     ]
    },
    {
     "name": "stderr",
     "output_type": "stream",
     "text": [
      "/tmp/ipykernel_173523/3953082156.py:22: DtypeWarning: Columns (4,8,12,18) have mixed types. Specify dtype option on import or set low_memory=False.\n",
      "  dfs.append(pd.read_csv(fpath, sep='\\t', escapechar='\\\\', on_bad_lines='skip',\n"
     ]
    },
    {
     "name": "stdout",
     "output_type": "stream",
     "text": [
      "../data/kenny_data/collection_20170410/182_user_info.txt\n"
     ]
    },
    {
     "name": "stderr",
     "output_type": "stream",
     "text": [
      "/tmp/ipykernel_173523/3953082156.py:22: DtypeWarning: Columns (4,7,8,12,18) have mixed types. Specify dtype option on import or set low_memory=False.\n",
      "  dfs.append(pd.read_csv(fpath, sep='\\t', escapechar='\\\\', on_bad_lines='skip',\n"
     ]
    },
    {
     "name": "stdout",
     "output_type": "stream",
     "text": [
      "../data/kenny_data/collection_20170410/183_user_info.txt\n"
     ]
    },
    {
     "name": "stderr",
     "output_type": "stream",
     "text": [
      "/tmp/ipykernel_173523/3953082156.py:22: DtypeWarning: Columns (4,7,8,12,18) have mixed types. Specify dtype option on import or set low_memory=False.\n",
      "  dfs.append(pd.read_csv(fpath, sep='\\t', escapechar='\\\\', on_bad_lines='skip',\n"
     ]
    },
    {
     "name": "stdout",
     "output_type": "stream",
     "text": [
      "../data/kenny_data/collection_20170410/184_user_info.txt\n"
     ]
    },
    {
     "name": "stderr",
     "output_type": "stream",
     "text": [
      "/tmp/ipykernel_173523/3953082156.py:22: DtypeWarning: Columns (4,7) have mixed types. Specify dtype option on import or set low_memory=False.\n",
      "  dfs.append(pd.read_csv(fpath, sep='\\t', escapechar='\\\\', on_bad_lines='skip',\n"
     ]
    },
    {
     "name": "stdout",
     "output_type": "stream",
     "text": [
      "../data/kenny_data/collection_20170410/185_user_info.txt\n"
     ]
    },
    {
     "name": "stderr",
     "output_type": "stream",
     "text": [
      "/tmp/ipykernel_173523/3953082156.py:22: DtypeWarning: Columns (4,7,8,12,18) have mixed types. Specify dtype option on import or set low_memory=False.\n",
      "  dfs.append(pd.read_csv(fpath, sep='\\t', escapechar='\\\\', on_bad_lines='skip',\n"
     ]
    },
    {
     "name": "stdout",
     "output_type": "stream",
     "text": [
      "../data/kenny_data/collection_20170410/186_user_info.txt\n"
     ]
    },
    {
     "name": "stderr",
     "output_type": "stream",
     "text": [
      "/tmp/ipykernel_173523/3953082156.py:22: DtypeWarning: Columns (4,8,12,18) have mixed types. Specify dtype option on import or set low_memory=False.\n",
      "  dfs.append(pd.read_csv(fpath, sep='\\t', escapechar='\\\\', on_bad_lines='skip',\n"
     ]
    },
    {
     "name": "stdout",
     "output_type": "stream",
     "text": [
      "../data/kenny_data/collection_20170410/187_user_info.txt\n"
     ]
    },
    {
     "name": "stderr",
     "output_type": "stream",
     "text": [
      "/tmp/ipykernel_173523/3953082156.py:22: DtypeWarning: Columns (4,7) have mixed types. Specify dtype option on import or set low_memory=False.\n",
      "  dfs.append(pd.read_csv(fpath, sep='\\t', escapechar='\\\\', on_bad_lines='skip',\n"
     ]
    },
    {
     "name": "stdout",
     "output_type": "stream",
     "text": [
      "../data/kenny_data/collection_20170410/188_user_info.txt\n"
     ]
    },
    {
     "name": "stderr",
     "output_type": "stream",
     "text": [
      "/tmp/ipykernel_173523/3953082156.py:22: DtypeWarning: Columns (4,8,12,18) have mixed types. Specify dtype option on import or set low_memory=False.\n",
      "  dfs.append(pd.read_csv(fpath, sep='\\t', escapechar='\\\\', on_bad_lines='skip',\n"
     ]
    },
    {
     "name": "stdout",
     "output_type": "stream",
     "text": [
      "../data/kenny_data/collection_20170410/189_user_info.txt\n"
     ]
    },
    {
     "name": "stderr",
     "output_type": "stream",
     "text": [
      "/tmp/ipykernel_173523/3953082156.py:22: DtypeWarning: Columns (4,8,12,18) have mixed types. Specify dtype option on import or set low_memory=False.\n",
      "  dfs.append(pd.read_csv(fpath, sep='\\t', escapechar='\\\\', on_bad_lines='skip',\n"
     ]
    },
    {
     "name": "stdout",
     "output_type": "stream",
     "text": [
      "../data/kenny_data/collection_20170410/18_user_info.txt\n"
     ]
    },
    {
     "name": "stderr",
     "output_type": "stream",
     "text": [
      "/tmp/ipykernel_173523/3953082156.py:22: DtypeWarning: Columns (4,7) have mixed types. Specify dtype option on import or set low_memory=False.\n",
      "  dfs.append(pd.read_csv(fpath, sep='\\t', escapechar='\\\\', on_bad_lines='skip',\n"
     ]
    },
    {
     "name": "stdout",
     "output_type": "stream",
     "text": [
      "../data/kenny_data/collection_20170410/190_user_info.txt\n"
     ]
    },
    {
     "name": "stderr",
     "output_type": "stream",
     "text": [
      "/tmp/ipykernel_173523/3953082156.py:22: DtypeWarning: Columns (4,7,8,12,18) have mixed types. Specify dtype option on import or set low_memory=False.\n",
      "  dfs.append(pd.read_csv(fpath, sep='\\t', escapechar='\\\\', on_bad_lines='skip',\n"
     ]
    },
    {
     "name": "stdout",
     "output_type": "stream",
     "text": [
      "../data/kenny_data/collection_20170410/191_user_info.txt\n"
     ]
    },
    {
     "name": "stderr",
     "output_type": "stream",
     "text": [
      "/tmp/ipykernel_173523/3953082156.py:22: DtypeWarning: Columns (4,7,8,12,18) have mixed types. Specify dtype option on import or set low_memory=False.\n",
      "  dfs.append(pd.read_csv(fpath, sep='\\t', escapechar='\\\\', on_bad_lines='skip',\n"
     ]
    },
    {
     "name": "stdout",
     "output_type": "stream",
     "text": [
      "../data/kenny_data/collection_20170410/192_user_info.txt\n"
     ]
    },
    {
     "name": "stderr",
     "output_type": "stream",
     "text": [
      "/tmp/ipykernel_173523/3953082156.py:22: DtypeWarning: Columns (4,8,12,18) have mixed types. Specify dtype option on import or set low_memory=False.\n",
      "  dfs.append(pd.read_csv(fpath, sep='\\t', escapechar='\\\\', on_bad_lines='skip',\n"
     ]
    },
    {
     "name": "stdout",
     "output_type": "stream",
     "text": [
      "../data/kenny_data/collection_20170410/193_user_info.txt\n"
     ]
    },
    {
     "name": "stderr",
     "output_type": "stream",
     "text": [
      "/tmp/ipykernel_173523/3953082156.py:22: DtypeWarning: Columns (4,7,8,12,18) have mixed types. Specify dtype option on import or set low_memory=False.\n",
      "  dfs.append(pd.read_csv(fpath, sep='\\t', escapechar='\\\\', on_bad_lines='skip',\n"
     ]
    },
    {
     "name": "stdout",
     "output_type": "stream",
     "text": [
      "../data/kenny_data/collection_20170410/194_user_info.txt\n"
     ]
    },
    {
     "name": "stderr",
     "output_type": "stream",
     "text": [
      "/tmp/ipykernel_173523/3953082156.py:22: DtypeWarning: Columns (4,7) have mixed types. Specify dtype option on import or set low_memory=False.\n",
      "  dfs.append(pd.read_csv(fpath, sep='\\t', escapechar='\\\\', on_bad_lines='skip',\n"
     ]
    },
    {
     "name": "stdout",
     "output_type": "stream",
     "text": [
      "../data/kenny_data/collection_20170410/195_user_info.txt\n"
     ]
    },
    {
     "name": "stderr",
     "output_type": "stream",
     "text": [
      "/tmp/ipykernel_173523/3953082156.py:22: DtypeWarning: Columns (4,8,12,18) have mixed types. Specify dtype option on import or set low_memory=False.\n",
      "  dfs.append(pd.read_csv(fpath, sep='\\t', escapechar='\\\\', on_bad_lines='skip',\n"
     ]
    },
    {
     "name": "stdout",
     "output_type": "stream",
     "text": [
      "../data/kenny_data/collection_20170410/196_user_info.txt\n"
     ]
    },
    {
     "name": "stderr",
     "output_type": "stream",
     "text": [
      "/tmp/ipykernel_173523/3953082156.py:22: DtypeWarning: Columns (4,8,12,18) have mixed types. Specify dtype option on import or set low_memory=False.\n",
      "  dfs.append(pd.read_csv(fpath, sep='\\t', escapechar='\\\\', on_bad_lines='skip',\n"
     ]
    },
    {
     "name": "stdout",
     "output_type": "stream",
     "text": [
      "../data/kenny_data/collection_20170410/197_user_info.txt\n"
     ]
    },
    {
     "name": "stderr",
     "output_type": "stream",
     "text": [
      "/tmp/ipykernel_173523/3953082156.py:22: DtypeWarning: Columns (4,7,8,12,18) have mixed types. Specify dtype option on import or set low_memory=False.\n",
      "  dfs.append(pd.read_csv(fpath, sep='\\t', escapechar='\\\\', on_bad_lines='skip',\n"
     ]
    },
    {
     "name": "stdout",
     "output_type": "stream",
     "text": [
      "../data/kenny_data/collection_20170410/198_user_info.txt\n"
     ]
    },
    {
     "name": "stderr",
     "output_type": "stream",
     "text": [
      "/tmp/ipykernel_173523/3953082156.py:22: DtypeWarning: Columns (4) have mixed types. Specify dtype option on import or set low_memory=False.\n",
      "  dfs.append(pd.read_csv(fpath, sep='\\t', escapechar='\\\\', on_bad_lines='skip',\n"
     ]
    },
    {
     "name": "stdout",
     "output_type": "stream",
     "text": [
      "../data/kenny_data/collection_20170410/199_user_info.txt\n"
     ]
    },
    {
     "name": "stderr",
     "output_type": "stream",
     "text": [
      "/tmp/ipykernel_173523/3953082156.py:22: DtypeWarning: Columns (4,7,8,12,18) have mixed types. Specify dtype option on import or set low_memory=False.\n",
      "  dfs.append(pd.read_csv(fpath, sep='\\t', escapechar='\\\\', on_bad_lines='skip',\n"
     ]
    },
    {
     "name": "stdout",
     "output_type": "stream",
     "text": [
      "../data/kenny_data/collection_20170410/19_user_info.txt\n"
     ]
    },
    {
     "name": "stderr",
     "output_type": "stream",
     "text": [
      "/tmp/ipykernel_173523/3953082156.py:22: DtypeWarning: Columns (4,8,12,18) have mixed types. Specify dtype option on import or set low_memory=False.\n",
      "  dfs.append(pd.read_csv(fpath, sep='\\t', escapechar='\\\\', on_bad_lines='skip',\n"
     ]
    },
    {
     "name": "stdout",
     "output_type": "stream",
     "text": [
      "../data/kenny_data/collection_20170410/1_user_info.txt\n"
     ]
    },
    {
     "name": "stderr",
     "output_type": "stream",
     "text": [
      "/tmp/ipykernel_173523/3953082156.py:22: DtypeWarning: Columns (4,7,8,12,18) have mixed types. Specify dtype option on import or set low_memory=False.\n",
      "  dfs.append(pd.read_csv(fpath, sep='\\t', escapechar='\\\\', on_bad_lines='skip',\n"
     ]
    },
    {
     "name": "stdout",
     "output_type": "stream",
     "text": [
      "../data/kenny_data/collection_20170410/200_user_info.txt\n"
     ]
    },
    {
     "name": "stderr",
     "output_type": "stream",
     "text": [
      "/tmp/ipykernel_173523/3953082156.py:22: DtypeWarning: Columns (4,7,8,12,18) have mixed types. Specify dtype option on import or set low_memory=False.\n",
      "  dfs.append(pd.read_csv(fpath, sep='\\t', escapechar='\\\\', on_bad_lines='skip',\n"
     ]
    },
    {
     "name": "stdout",
     "output_type": "stream",
     "text": [
      "../data/kenny_data/collection_20170410/201_user_info.txt\n"
     ]
    },
    {
     "name": "stderr",
     "output_type": "stream",
     "text": [
      "/tmp/ipykernel_173523/3953082156.py:22: DtypeWarning: Columns (4,8,12,18) have mixed types. Specify dtype option on import or set low_memory=False.\n",
      "  dfs.append(pd.read_csv(fpath, sep='\\t', escapechar='\\\\', on_bad_lines='skip',\n"
     ]
    },
    {
     "name": "stdout",
     "output_type": "stream",
     "text": [
      "../data/kenny_data/collection_20170410/202_user_info.txt\n"
     ]
    },
    {
     "name": "stderr",
     "output_type": "stream",
     "text": [
      "/tmp/ipykernel_173523/3953082156.py:22: DtypeWarning: Columns (4,8,12,18) have mixed types. Specify dtype option on import or set low_memory=False.\n",
      "  dfs.append(pd.read_csv(fpath, sep='\\t', escapechar='\\\\', on_bad_lines='skip',\n"
     ]
    },
    {
     "name": "stdout",
     "output_type": "stream",
     "text": [
      "../data/kenny_data/collection_20170410/203_user_info.txt\n"
     ]
    },
    {
     "name": "stderr",
     "output_type": "stream",
     "text": [
      "/tmp/ipykernel_173523/3953082156.py:22: DtypeWarning: Columns (4,7,8,12,18) have mixed types. Specify dtype option on import or set low_memory=False.\n",
      "  dfs.append(pd.read_csv(fpath, sep='\\t', escapechar='\\\\', on_bad_lines='skip',\n"
     ]
    },
    {
     "name": "stdout",
     "output_type": "stream",
     "text": [
      "../data/kenny_data/collection_20170410/204_user_info.txt\n"
     ]
    },
    {
     "name": "stderr",
     "output_type": "stream",
     "text": [
      "/tmp/ipykernel_173523/3953082156.py:22: DtypeWarning: Columns (4,8,12,18) have mixed types. Specify dtype option on import or set low_memory=False.\n",
      "  dfs.append(pd.read_csv(fpath, sep='\\t', escapechar='\\\\', on_bad_lines='skip',\n"
     ]
    },
    {
     "name": "stdout",
     "output_type": "stream",
     "text": [
      "../data/kenny_data/collection_20170410/205_user_info.txt\n"
     ]
    },
    {
     "name": "stderr",
     "output_type": "stream",
     "text": [
      "/tmp/ipykernel_173523/3953082156.py:22: DtypeWarning: Columns (4,8,12,18) have mixed types. Specify dtype option on import or set low_memory=False.\n",
      "  dfs.append(pd.read_csv(fpath, sep='\\t', escapechar='\\\\', on_bad_lines='skip',\n"
     ]
    },
    {
     "name": "stdout",
     "output_type": "stream",
     "text": [
      "../data/kenny_data/collection_20170410/206_user_info.txt\n"
     ]
    },
    {
     "name": "stderr",
     "output_type": "stream",
     "text": [
      "/tmp/ipykernel_173523/3953082156.py:22: DtypeWarning: Columns (4,8,12,18) have mixed types. Specify dtype option on import or set low_memory=False.\n",
      "  dfs.append(pd.read_csv(fpath, sep='\\t', escapechar='\\\\', on_bad_lines='skip',\n"
     ]
    },
    {
     "name": "stdout",
     "output_type": "stream",
     "text": [
      "../data/kenny_data/collection_20170410/207_user_info.txt\n"
     ]
    },
    {
     "name": "stderr",
     "output_type": "stream",
     "text": [
      "/tmp/ipykernel_173523/3953082156.py:22: DtypeWarning: Columns (4,7) have mixed types. Specify dtype option on import or set low_memory=False.\n",
      "  dfs.append(pd.read_csv(fpath, sep='\\t', escapechar='\\\\', on_bad_lines='skip',\n"
     ]
    },
    {
     "name": "stdout",
     "output_type": "stream",
     "text": [
      "../data/kenny_data/collection_20170410/208_user_info.txt\n"
     ]
    },
    {
     "name": "stderr",
     "output_type": "stream",
     "text": [
      "/tmp/ipykernel_173523/3953082156.py:22: DtypeWarning: Columns (4,7,8,12,18) have mixed types. Specify dtype option on import or set low_memory=False.\n",
      "  dfs.append(pd.read_csv(fpath, sep='\\t', escapechar='\\\\', on_bad_lines='skip',\n"
     ]
    },
    {
     "name": "stdout",
     "output_type": "stream",
     "text": [
      "../data/kenny_data/collection_20170410/209_user_info.txt\n"
     ]
    },
    {
     "name": "stderr",
     "output_type": "stream",
     "text": [
      "/tmp/ipykernel_173523/3953082156.py:22: DtypeWarning: Columns (4,7) have mixed types. Specify dtype option on import or set low_memory=False.\n",
      "  dfs.append(pd.read_csv(fpath, sep='\\t', escapechar='\\\\', on_bad_lines='skip',\n"
     ]
    },
    {
     "name": "stdout",
     "output_type": "stream",
     "text": [
      "../data/kenny_data/collection_20170410/20_user_info.txt\n"
     ]
    },
    {
     "name": "stderr",
     "output_type": "stream",
     "text": [
      "/tmp/ipykernel_173523/3953082156.py:22: DtypeWarning: Columns (4,7,8,12,18) have mixed types. Specify dtype option on import or set low_memory=False.\n",
      "  dfs.append(pd.read_csv(fpath, sep='\\t', escapechar='\\\\', on_bad_lines='skip',\n"
     ]
    },
    {
     "name": "stdout",
     "output_type": "stream",
     "text": [
      "../data/kenny_data/collection_20170410/210_user_info.txt\n"
     ]
    },
    {
     "name": "stderr",
     "output_type": "stream",
     "text": [
      "/tmp/ipykernel_173523/3953082156.py:22: DtypeWarning: Columns (4,7,8,12,18) have mixed types. Specify dtype option on import or set low_memory=False.\n",
      "  dfs.append(pd.read_csv(fpath, sep='\\t', escapechar='\\\\', on_bad_lines='skip',\n"
     ]
    },
    {
     "name": "stdout",
     "output_type": "stream",
     "text": [
      "../data/kenny_data/collection_20170410/211_user_info.txt\n"
     ]
    },
    {
     "name": "stderr",
     "output_type": "stream",
     "text": [
      "/tmp/ipykernel_173523/3953082156.py:22: DtypeWarning: Columns (4,7,8,12,18) have mixed types. Specify dtype option on import or set low_memory=False.\n",
      "  dfs.append(pd.read_csv(fpath, sep='\\t', escapechar='\\\\', on_bad_lines='skip',\n"
     ]
    },
    {
     "name": "stdout",
     "output_type": "stream",
     "text": [
      "../data/kenny_data/collection_20170410/212_user_info.txt\n"
     ]
    },
    {
     "name": "stderr",
     "output_type": "stream",
     "text": [
      "/tmp/ipykernel_173523/3953082156.py:22: DtypeWarning: Columns (4,7,8,12,18) have mixed types. Specify dtype option on import or set low_memory=False.\n",
      "  dfs.append(pd.read_csv(fpath, sep='\\t', escapechar='\\\\', on_bad_lines='skip',\n"
     ]
    },
    {
     "name": "stdout",
     "output_type": "stream",
     "text": [
      "../data/kenny_data/collection_20170410/213_user_info.txt\n"
     ]
    },
    {
     "name": "stderr",
     "output_type": "stream",
     "text": [
      "/tmp/ipykernel_173523/3953082156.py:22: DtypeWarning: Columns (4,7,8,12,18) have mixed types. Specify dtype option on import or set low_memory=False.\n",
      "  dfs.append(pd.read_csv(fpath, sep='\\t', escapechar='\\\\', on_bad_lines='skip',\n"
     ]
    },
    {
     "name": "stdout",
     "output_type": "stream",
     "text": [
      "../data/kenny_data/collection_20170410/214_user_info.txt\n"
     ]
    },
    {
     "name": "stderr",
     "output_type": "stream",
     "text": [
      "/tmp/ipykernel_173523/3953082156.py:22: DtypeWarning: Columns (4,7,8,12,18) have mixed types. Specify dtype option on import or set low_memory=False.\n",
      "  dfs.append(pd.read_csv(fpath, sep='\\t', escapechar='\\\\', on_bad_lines='skip',\n"
     ]
    },
    {
     "name": "stdout",
     "output_type": "stream",
     "text": [
      "../data/kenny_data/collection_20170410/215_user_info.txt\n"
     ]
    },
    {
     "name": "stderr",
     "output_type": "stream",
     "text": [
      "/tmp/ipykernel_173523/3953082156.py:22: DtypeWarning: Columns (4,7,8,12,18) have mixed types. Specify dtype option on import or set low_memory=False.\n",
      "  dfs.append(pd.read_csv(fpath, sep='\\t', escapechar='\\\\', on_bad_lines='skip',\n"
     ]
    },
    {
     "name": "stdout",
     "output_type": "stream",
     "text": [
      "../data/kenny_data/collection_20170410/216_user_info.txt\n"
     ]
    },
    {
     "name": "stderr",
     "output_type": "stream",
     "text": [
      "/tmp/ipykernel_173523/3953082156.py:22: DtypeWarning: Columns (4,7,8,12,18) have mixed types. Specify dtype option on import or set low_memory=False.\n",
      "  dfs.append(pd.read_csv(fpath, sep='\\t', escapechar='\\\\', on_bad_lines='skip',\n"
     ]
    },
    {
     "name": "stdout",
     "output_type": "stream",
     "text": [
      "../data/kenny_data/collection_20170410/217_user_info.txt\n"
     ]
    },
    {
     "name": "stderr",
     "output_type": "stream",
     "text": [
      "/tmp/ipykernel_173523/3953082156.py:22: DtypeWarning: Columns (4,8,12,18) have mixed types. Specify dtype option on import or set low_memory=False.\n",
      "  dfs.append(pd.read_csv(fpath, sep='\\t', escapechar='\\\\', on_bad_lines='skip',\n"
     ]
    },
    {
     "name": "stdout",
     "output_type": "stream",
     "text": [
      "../data/kenny_data/collection_20170410/218_user_info.txt\n"
     ]
    },
    {
     "name": "stderr",
     "output_type": "stream",
     "text": [
      "/tmp/ipykernel_173523/3953082156.py:22: DtypeWarning: Columns (4,7) have mixed types. Specify dtype option on import or set low_memory=False.\n",
      "  dfs.append(pd.read_csv(fpath, sep='\\t', escapechar='\\\\', on_bad_lines='skip',\n"
     ]
    },
    {
     "name": "stdout",
     "output_type": "stream",
     "text": [
      "../data/kenny_data/collection_20170410/219_user_info.txt\n"
     ]
    },
    {
     "name": "stderr",
     "output_type": "stream",
     "text": [
      "/tmp/ipykernel_173523/3953082156.py:22: DtypeWarning: Columns (4,8,12,18) have mixed types. Specify dtype option on import or set low_memory=False.\n",
      "  dfs.append(pd.read_csv(fpath, sep='\\t', escapechar='\\\\', on_bad_lines='skip',\n"
     ]
    },
    {
     "name": "stdout",
     "output_type": "stream",
     "text": [
      "../data/kenny_data/collection_20170410/21_user_info.txt\n"
     ]
    },
    {
     "name": "stderr",
     "output_type": "stream",
     "text": [
      "/tmp/ipykernel_173523/3953082156.py:22: DtypeWarning: Columns (4,7,8,12,18) have mixed types. Specify dtype option on import or set low_memory=False.\n",
      "  dfs.append(pd.read_csv(fpath, sep='\\t', escapechar='\\\\', on_bad_lines='skip',\n"
     ]
    },
    {
     "name": "stdout",
     "output_type": "stream",
     "text": [
      "../data/kenny_data/collection_20170410/220_user_info.txt\n"
     ]
    },
    {
     "name": "stderr",
     "output_type": "stream",
     "text": [
      "/tmp/ipykernel_173523/3953082156.py:22: DtypeWarning: Columns (4,8,12,18) have mixed types. Specify dtype option on import or set low_memory=False.\n",
      "  dfs.append(pd.read_csv(fpath, sep='\\t', escapechar='\\\\', on_bad_lines='skip',\n"
     ]
    },
    {
     "name": "stdout",
     "output_type": "stream",
     "text": [
      "../data/kenny_data/collection_20170410/221_user_info.txt\n"
     ]
    },
    {
     "name": "stderr",
     "output_type": "stream",
     "text": [
      "/tmp/ipykernel_173523/3953082156.py:22: DtypeWarning: Columns (4,8,12,18) have mixed types. Specify dtype option on import or set low_memory=False.\n",
      "  dfs.append(pd.read_csv(fpath, sep='\\t', escapechar='\\\\', on_bad_lines='skip',\n"
     ]
    },
    {
     "name": "stdout",
     "output_type": "stream",
     "text": [
      "../data/kenny_data/collection_20170410/222_user_info.txt\n"
     ]
    },
    {
     "name": "stderr",
     "output_type": "stream",
     "text": [
      "/tmp/ipykernel_173523/3953082156.py:22: DtypeWarning: Columns (4,7,8,12,18) have mixed types. Specify dtype option on import or set low_memory=False.\n",
      "  dfs.append(pd.read_csv(fpath, sep='\\t', escapechar='\\\\', on_bad_lines='skip',\n"
     ]
    },
    {
     "name": "stdout",
     "output_type": "stream",
     "text": [
      "../data/kenny_data/collection_20170410/223_user_info.txt\n"
     ]
    },
    {
     "name": "stderr",
     "output_type": "stream",
     "text": [
      "/tmp/ipykernel_173523/3953082156.py:22: DtypeWarning: Columns (4,7,8,12,18) have mixed types. Specify dtype option on import or set low_memory=False.\n",
      "  dfs.append(pd.read_csv(fpath, sep='\\t', escapechar='\\\\', on_bad_lines='skip',\n"
     ]
    },
    {
     "name": "stdout",
     "output_type": "stream",
     "text": [
      "../data/kenny_data/collection_20170410/224_user_info.txt\n"
     ]
    },
    {
     "name": "stderr",
     "output_type": "stream",
     "text": [
      "/tmp/ipykernel_173523/3953082156.py:22: DtypeWarning: Columns (4,7,8,12,18) have mixed types. Specify dtype option on import or set low_memory=False.\n",
      "  dfs.append(pd.read_csv(fpath, sep='\\t', escapechar='\\\\', on_bad_lines='skip',\n"
     ]
    },
    {
     "name": "stdout",
     "output_type": "stream",
     "text": [
      "../data/kenny_data/collection_20170410/225_user_info.txt\n"
     ]
    },
    {
     "name": "stderr",
     "output_type": "stream",
     "text": [
      "/tmp/ipykernel_173523/3953082156.py:22: DtypeWarning: Columns (4,7,8,12,18) have mixed types. Specify dtype option on import or set low_memory=False.\n",
      "  dfs.append(pd.read_csv(fpath, sep='\\t', escapechar='\\\\', on_bad_lines='skip',\n"
     ]
    },
    {
     "name": "stdout",
     "output_type": "stream",
     "text": [
      "../data/kenny_data/collection_20170410/226_user_info.txt\n"
     ]
    },
    {
     "name": "stderr",
     "output_type": "stream",
     "text": [
      "/tmp/ipykernel_173523/3953082156.py:22: DtypeWarning: Columns (4,8,12,18) have mixed types. Specify dtype option on import or set low_memory=False.\n",
      "  dfs.append(pd.read_csv(fpath, sep='\\t', escapechar='\\\\', on_bad_lines='skip',\n"
     ]
    },
    {
     "name": "stdout",
     "output_type": "stream",
     "text": [
      "../data/kenny_data/collection_20170410/227_user_info.txt\n"
     ]
    },
    {
     "name": "stderr",
     "output_type": "stream",
     "text": [
      "/tmp/ipykernel_173523/3953082156.py:22: DtypeWarning: Columns (4,7,8,12,18) have mixed types. Specify dtype option on import or set low_memory=False.\n",
      "  dfs.append(pd.read_csv(fpath, sep='\\t', escapechar='\\\\', on_bad_lines='skip',\n"
     ]
    },
    {
     "name": "stdout",
     "output_type": "stream",
     "text": [
      "../data/kenny_data/collection_20170410/228_user_info.txt\n"
     ]
    },
    {
     "name": "stderr",
     "output_type": "stream",
     "text": [
      "/tmp/ipykernel_173523/3953082156.py:22: DtypeWarning: Columns (4,8,12,18) have mixed types. Specify dtype option on import or set low_memory=False.\n",
      "  dfs.append(pd.read_csv(fpath, sep='\\t', escapechar='\\\\', on_bad_lines='skip',\n"
     ]
    },
    {
     "name": "stdout",
     "output_type": "stream",
     "text": [
      "../data/kenny_data/collection_20170410/229_user_info.txt\n"
     ]
    },
    {
     "name": "stderr",
     "output_type": "stream",
     "text": [
      "/tmp/ipykernel_173523/3953082156.py:22: DtypeWarning: Columns (4,7,8,12,18) have mixed types. Specify dtype option on import or set low_memory=False.\n",
      "  dfs.append(pd.read_csv(fpath, sep='\\t', escapechar='\\\\', on_bad_lines='skip',\n"
     ]
    },
    {
     "name": "stdout",
     "output_type": "stream",
     "text": [
      "../data/kenny_data/collection_20170410/22_user_info.txt\n"
     ]
    },
    {
     "name": "stderr",
     "output_type": "stream",
     "text": [
      "/tmp/ipykernel_173523/3953082156.py:22: DtypeWarning: Columns (4,8,12,18) have mixed types. Specify dtype option on import or set low_memory=False.\n",
      "  dfs.append(pd.read_csv(fpath, sep='\\t', escapechar='\\\\', on_bad_lines='skip',\n"
     ]
    },
    {
     "name": "stdout",
     "output_type": "stream",
     "text": [
      "../data/kenny_data/collection_20170410/23_user_info.txt\n"
     ]
    },
    {
     "name": "stderr",
     "output_type": "stream",
     "text": [
      "/tmp/ipykernel_173523/3953082156.py:22: DtypeWarning: Columns (4,7) have mixed types. Specify dtype option on import or set low_memory=False.\n",
      "  dfs.append(pd.read_csv(fpath, sep='\\t', escapechar='\\\\', on_bad_lines='skip',\n"
     ]
    },
    {
     "name": "stdout",
     "output_type": "stream",
     "text": [
      "../data/kenny_data/collection_20170410/24_user_info.txt\n"
     ]
    },
    {
     "name": "stderr",
     "output_type": "stream",
     "text": [
      "/tmp/ipykernel_173523/3953082156.py:22: DtypeWarning: Columns (4,8,12,18) have mixed types. Specify dtype option on import or set low_memory=False.\n",
      "  dfs.append(pd.read_csv(fpath, sep='\\t', escapechar='\\\\', on_bad_lines='skip',\n"
     ]
    },
    {
     "name": "stdout",
     "output_type": "stream",
     "text": [
      "../data/kenny_data/collection_20170410/25_user_info.txt\n"
     ]
    },
    {
     "name": "stderr",
     "output_type": "stream",
     "text": [
      "/tmp/ipykernel_173523/3953082156.py:22: DtypeWarning: Columns (4,7,8,12,18) have mixed types. Specify dtype option on import or set low_memory=False.\n",
      "  dfs.append(pd.read_csv(fpath, sep='\\t', escapechar='\\\\', on_bad_lines='skip',\n"
     ]
    },
    {
     "name": "stdout",
     "output_type": "stream",
     "text": [
      "../data/kenny_data/collection_20170410/26_user_info.txt\n"
     ]
    },
    {
     "name": "stderr",
     "output_type": "stream",
     "text": [
      "/tmp/ipykernel_173523/3953082156.py:22: DtypeWarning: Columns (4,8,12,18) have mixed types. Specify dtype option on import or set low_memory=False.\n",
      "  dfs.append(pd.read_csv(fpath, sep='\\t', escapechar='\\\\', on_bad_lines='skip',\n"
     ]
    },
    {
     "name": "stdout",
     "output_type": "stream",
     "text": [
      "../data/kenny_data/collection_20170410/27_user_info.txt\n"
     ]
    },
    {
     "name": "stderr",
     "output_type": "stream",
     "text": [
      "/tmp/ipykernel_173523/3953082156.py:22: DtypeWarning: Columns (4,7,8,12,18) have mixed types. Specify dtype option on import or set low_memory=False.\n",
      "  dfs.append(pd.read_csv(fpath, sep='\\t', escapechar='\\\\', on_bad_lines='skip',\n"
     ]
    },
    {
     "name": "stdout",
     "output_type": "stream",
     "text": [
      "../data/kenny_data/collection_20170410/28_user_info.txt\n"
     ]
    },
    {
     "name": "stderr",
     "output_type": "stream",
     "text": [
      "/tmp/ipykernel_173523/3953082156.py:22: DtypeWarning: Columns (4,7,8,12,18) have mixed types. Specify dtype option on import or set low_memory=False.\n",
      "  dfs.append(pd.read_csv(fpath, sep='\\t', escapechar='\\\\', on_bad_lines='skip',\n"
     ]
    },
    {
     "name": "stdout",
     "output_type": "stream",
     "text": [
      "../data/kenny_data/collection_20170410/29_user_info.txt\n"
     ]
    },
    {
     "name": "stderr",
     "output_type": "stream",
     "text": [
      "/tmp/ipykernel_173523/3953082156.py:22: DtypeWarning: Columns (4,7,8,12,18) have mixed types. Specify dtype option on import or set low_memory=False.\n",
      "  dfs.append(pd.read_csv(fpath, sep='\\t', escapechar='\\\\', on_bad_lines='skip',\n"
     ]
    },
    {
     "name": "stdout",
     "output_type": "stream",
     "text": [
      "../data/kenny_data/collection_20170410/2_user_info.txt\n"
     ]
    },
    {
     "name": "stderr",
     "output_type": "stream",
     "text": [
      "/tmp/ipykernel_173523/3953082156.py:22: DtypeWarning: Columns (4,8,12,18) have mixed types. Specify dtype option on import or set low_memory=False.\n",
      "  dfs.append(pd.read_csv(fpath, sep='\\t', escapechar='\\\\', on_bad_lines='skip',\n"
     ]
    },
    {
     "name": "stdout",
     "output_type": "stream",
     "text": [
      "../data/kenny_data/collection_20170410/30_user_info.txt\n"
     ]
    },
    {
     "name": "stderr",
     "output_type": "stream",
     "text": [
      "/tmp/ipykernel_173523/3953082156.py:22: DtypeWarning: Columns (4,8,12,18) have mixed types. Specify dtype option on import or set low_memory=False.\n",
      "  dfs.append(pd.read_csv(fpath, sep='\\t', escapechar='\\\\', on_bad_lines='skip',\n"
     ]
    },
    {
     "name": "stdout",
     "output_type": "stream",
     "text": [
      "../data/kenny_data/collection_20170410/31_user_info.txt\n"
     ]
    },
    {
     "name": "stderr",
     "output_type": "stream",
     "text": [
      "/tmp/ipykernel_173523/3953082156.py:22: DtypeWarning: Columns (4,8,12,18) have mixed types. Specify dtype option on import or set low_memory=False.\n",
      "  dfs.append(pd.read_csv(fpath, sep='\\t', escapechar='\\\\', on_bad_lines='skip',\n"
     ]
    },
    {
     "name": "stdout",
     "output_type": "stream",
     "text": [
      "../data/kenny_data/collection_20170410/32_user_info.txt\n"
     ]
    },
    {
     "name": "stderr",
     "output_type": "stream",
     "text": [
      "/tmp/ipykernel_173523/3953082156.py:22: DtypeWarning: Columns (4,7) have mixed types. Specify dtype option on import or set low_memory=False.\n",
      "  dfs.append(pd.read_csv(fpath, sep='\\t', escapechar='\\\\', on_bad_lines='skip',\n"
     ]
    },
    {
     "name": "stdout",
     "output_type": "stream",
     "text": [
      "../data/kenny_data/collection_20170410/33_user_info.txt\n"
     ]
    },
    {
     "name": "stderr",
     "output_type": "stream",
     "text": [
      "/tmp/ipykernel_173523/3953082156.py:22: DtypeWarning: Columns (4,7,8,12,18) have mixed types. Specify dtype option on import or set low_memory=False.\n",
      "  dfs.append(pd.read_csv(fpath, sep='\\t', escapechar='\\\\', on_bad_lines='skip',\n"
     ]
    },
    {
     "name": "stdout",
     "output_type": "stream",
     "text": [
      "../data/kenny_data/collection_20170410/34_user_info.txt\n"
     ]
    },
    {
     "name": "stderr",
     "output_type": "stream",
     "text": [
      "/tmp/ipykernel_173523/3953082156.py:22: DtypeWarning: Columns (4,8,12,18) have mixed types. Specify dtype option on import or set low_memory=False.\n",
      "  dfs.append(pd.read_csv(fpath, sep='\\t', escapechar='\\\\', on_bad_lines='skip',\n"
     ]
    },
    {
     "name": "stdout",
     "output_type": "stream",
     "text": [
      "../data/kenny_data/collection_20170410/35_user_info.txt\n"
     ]
    },
    {
     "name": "stderr",
     "output_type": "stream",
     "text": [
      "/tmp/ipykernel_173523/3953082156.py:22: DtypeWarning: Columns (4,8,12,18) have mixed types. Specify dtype option on import or set low_memory=False.\n",
      "  dfs.append(pd.read_csv(fpath, sep='\\t', escapechar='\\\\', on_bad_lines='skip',\n"
     ]
    },
    {
     "name": "stdout",
     "output_type": "stream",
     "text": [
      "../data/kenny_data/collection_20170410/36_user_info.txt\n"
     ]
    },
    {
     "name": "stderr",
     "output_type": "stream",
     "text": [
      "/tmp/ipykernel_173523/3953082156.py:22: DtypeWarning: Columns (4,7) have mixed types. Specify dtype option on import or set low_memory=False.\n",
      "  dfs.append(pd.read_csv(fpath, sep='\\t', escapechar='\\\\', on_bad_lines='skip',\n"
     ]
    },
    {
     "name": "stdout",
     "output_type": "stream",
     "text": [
      "../data/kenny_data/collection_20170410/37_user_info.txt\n"
     ]
    },
    {
     "name": "stderr",
     "output_type": "stream",
     "text": [
      "/tmp/ipykernel_173523/3953082156.py:22: DtypeWarning: Columns (4,7,8,12,18) have mixed types. Specify dtype option on import or set low_memory=False.\n",
      "  dfs.append(pd.read_csv(fpath, sep='\\t', escapechar='\\\\', on_bad_lines='skip',\n"
     ]
    },
    {
     "name": "stdout",
     "output_type": "stream",
     "text": [
      "../data/kenny_data/collection_20170410/38_user_info.txt\n"
     ]
    },
    {
     "name": "stderr",
     "output_type": "stream",
     "text": [
      "/tmp/ipykernel_173523/3953082156.py:22: DtypeWarning: Columns (4,8,12,18) have mixed types. Specify dtype option on import or set low_memory=False.\n",
      "  dfs.append(pd.read_csv(fpath, sep='\\t', escapechar='\\\\', on_bad_lines='skip',\n"
     ]
    },
    {
     "name": "stdout",
     "output_type": "stream",
     "text": [
      "../data/kenny_data/collection_20170410/39_user_info.txt\n"
     ]
    },
    {
     "name": "stderr",
     "output_type": "stream",
     "text": [
      "/tmp/ipykernel_173523/3953082156.py:22: DtypeWarning: Columns (4,7,8,12,18) have mixed types. Specify dtype option on import or set low_memory=False.\n",
      "  dfs.append(pd.read_csv(fpath, sep='\\t', escapechar='\\\\', on_bad_lines='skip',\n"
     ]
    },
    {
     "name": "stdout",
     "output_type": "stream",
     "text": [
      "../data/kenny_data/collection_20170410/3_user_info.txt\n"
     ]
    },
    {
     "name": "stderr",
     "output_type": "stream",
     "text": [
      "/tmp/ipykernel_173523/3953082156.py:22: DtypeWarning: Columns (4,8,12,18) have mixed types. Specify dtype option on import or set low_memory=False.\n",
      "  dfs.append(pd.read_csv(fpath, sep='\\t', escapechar='\\\\', on_bad_lines='skip',\n"
     ]
    },
    {
     "name": "stdout",
     "output_type": "stream",
     "text": [
      "../data/kenny_data/collection_20170410/40_user_info.txt\n"
     ]
    },
    {
     "name": "stderr",
     "output_type": "stream",
     "text": [
      "/tmp/ipykernel_173523/3953082156.py:22: DtypeWarning: Columns (4,7,8,12,18) have mixed types. Specify dtype option on import or set low_memory=False.\n",
      "  dfs.append(pd.read_csv(fpath, sep='\\t', escapechar='\\\\', on_bad_lines='skip',\n"
     ]
    },
    {
     "name": "stdout",
     "output_type": "stream",
     "text": [
      "../data/kenny_data/collection_20170410/41_user_info.txt\n"
     ]
    },
    {
     "name": "stderr",
     "output_type": "stream",
     "text": [
      "/tmp/ipykernel_173523/3953082156.py:22: DtypeWarning: Columns (4,7,8,12,18) have mixed types. Specify dtype option on import or set low_memory=False.\n",
      "  dfs.append(pd.read_csv(fpath, sep='\\t', escapechar='\\\\', on_bad_lines='skip',\n"
     ]
    },
    {
     "name": "stdout",
     "output_type": "stream",
     "text": [
      "../data/kenny_data/collection_20170410/42_user_info.txt\n"
     ]
    },
    {
     "name": "stderr",
     "output_type": "stream",
     "text": [
      "/tmp/ipykernel_173523/3953082156.py:22: DtypeWarning: Columns (4,7,8,12,18) have mixed types. Specify dtype option on import or set low_memory=False.\n",
      "  dfs.append(pd.read_csv(fpath, sep='\\t', escapechar='\\\\', on_bad_lines='skip',\n"
     ]
    },
    {
     "name": "stdout",
     "output_type": "stream",
     "text": [
      "../data/kenny_data/collection_20170410/43_user_info.txt\n"
     ]
    },
    {
     "name": "stderr",
     "output_type": "stream",
     "text": [
      "/tmp/ipykernel_173523/3953082156.py:22: DtypeWarning: Columns (4,7,8,12,18) have mixed types. Specify dtype option on import or set low_memory=False.\n",
      "  dfs.append(pd.read_csv(fpath, sep='\\t', escapechar='\\\\', on_bad_lines='skip',\n"
     ]
    },
    {
     "name": "stdout",
     "output_type": "stream",
     "text": [
      "../data/kenny_data/collection_20170410/44_user_info.txt\n"
     ]
    },
    {
     "name": "stderr",
     "output_type": "stream",
     "text": [
      "/tmp/ipykernel_173523/3953082156.py:22: DtypeWarning: Columns (4,8,12,18) have mixed types. Specify dtype option on import or set low_memory=False.\n",
      "  dfs.append(pd.read_csv(fpath, sep='\\t', escapechar='\\\\', on_bad_lines='skip',\n"
     ]
    },
    {
     "name": "stdout",
     "output_type": "stream",
     "text": [
      "../data/kenny_data/collection_20170410/45_user_info.txt\n"
     ]
    },
    {
     "name": "stderr",
     "output_type": "stream",
     "text": [
      "/tmp/ipykernel_173523/3953082156.py:22: DtypeWarning: Columns (4,7,8,12,18) have mixed types. Specify dtype option on import or set low_memory=False.\n",
      "  dfs.append(pd.read_csv(fpath, sep='\\t', escapechar='\\\\', on_bad_lines='skip',\n"
     ]
    },
    {
     "name": "stdout",
     "output_type": "stream",
     "text": [
      "../data/kenny_data/collection_20170410/46_user_info.txt\n"
     ]
    },
    {
     "name": "stderr",
     "output_type": "stream",
     "text": [
      "/tmp/ipykernel_173523/3953082156.py:22: DtypeWarning: Columns (4,7,8,12,18) have mixed types. Specify dtype option on import or set low_memory=False.\n",
      "  dfs.append(pd.read_csv(fpath, sep='\\t', escapechar='\\\\', on_bad_lines='skip',\n"
     ]
    },
    {
     "name": "stdout",
     "output_type": "stream",
     "text": [
      "../data/kenny_data/collection_20170410/47_user_info.txt\n"
     ]
    },
    {
     "name": "stderr",
     "output_type": "stream",
     "text": [
      "/tmp/ipykernel_173523/3953082156.py:22: DtypeWarning: Columns (4,7,8,12,18) have mixed types. Specify dtype option on import or set low_memory=False.\n",
      "  dfs.append(pd.read_csv(fpath, sep='\\t', escapechar='\\\\', on_bad_lines='skip',\n"
     ]
    },
    {
     "name": "stdout",
     "output_type": "stream",
     "text": [
      "../data/kenny_data/collection_20170410/48_user_info.txt\n"
     ]
    },
    {
     "name": "stderr",
     "output_type": "stream",
     "text": [
      "/tmp/ipykernel_173523/3953082156.py:22: DtypeWarning: Columns (4,8,12,18) have mixed types. Specify dtype option on import or set low_memory=False.\n",
      "  dfs.append(pd.read_csv(fpath, sep='\\t', escapechar='\\\\', on_bad_lines='skip',\n"
     ]
    },
    {
     "name": "stdout",
     "output_type": "stream",
     "text": [
      "../data/kenny_data/collection_20170410/49_user_info.txt\n"
     ]
    },
    {
     "name": "stderr",
     "output_type": "stream",
     "text": [
      "/tmp/ipykernel_173523/3953082156.py:22: DtypeWarning: Columns (4,8,12,18) have mixed types. Specify dtype option on import or set low_memory=False.\n",
      "  dfs.append(pd.read_csv(fpath, sep='\\t', escapechar='\\\\', on_bad_lines='skip',\n"
     ]
    },
    {
     "name": "stdout",
     "output_type": "stream",
     "text": [
      "../data/kenny_data/collection_20170410/4_user_info.txt\n"
     ]
    },
    {
     "name": "stderr",
     "output_type": "stream",
     "text": [
      "/tmp/ipykernel_173523/3953082156.py:22: DtypeWarning: Columns (4,7,8,12,18) have mixed types. Specify dtype option on import or set low_memory=False.\n",
      "  dfs.append(pd.read_csv(fpath, sep='\\t', escapechar='\\\\', on_bad_lines='skip',\n"
     ]
    },
    {
     "name": "stdout",
     "output_type": "stream",
     "text": [
      "../data/kenny_data/collection_20170410/50_user_info.txt\n"
     ]
    },
    {
     "name": "stderr",
     "output_type": "stream",
     "text": [
      "/tmp/ipykernel_173523/3953082156.py:22: DtypeWarning: Columns (4,7,8,12,18) have mixed types. Specify dtype option on import or set low_memory=False.\n",
      "  dfs.append(pd.read_csv(fpath, sep='\\t', escapechar='\\\\', on_bad_lines='skip',\n"
     ]
    },
    {
     "name": "stdout",
     "output_type": "stream",
     "text": [
      "../data/kenny_data/collection_20170410/51_user_info.txt\n"
     ]
    },
    {
     "name": "stderr",
     "output_type": "stream",
     "text": [
      "/tmp/ipykernel_173523/3953082156.py:22: DtypeWarning: Columns (4,8,12,18) have mixed types. Specify dtype option on import or set low_memory=False.\n",
      "  dfs.append(pd.read_csv(fpath, sep='\\t', escapechar='\\\\', on_bad_lines='skip',\n"
     ]
    },
    {
     "name": "stdout",
     "output_type": "stream",
     "text": [
      "../data/kenny_data/collection_20170410/52_user_info.txt\n"
     ]
    },
    {
     "name": "stderr",
     "output_type": "stream",
     "text": [
      "/tmp/ipykernel_173523/3953082156.py:22: DtypeWarning: Columns (4,7,8,12,18) have mixed types. Specify dtype option on import or set low_memory=False.\n",
      "  dfs.append(pd.read_csv(fpath, sep='\\t', escapechar='\\\\', on_bad_lines='skip',\n"
     ]
    },
    {
     "name": "stdout",
     "output_type": "stream",
     "text": [
      "../data/kenny_data/collection_20170410/53_user_info.txt\n"
     ]
    },
    {
     "name": "stderr",
     "output_type": "stream",
     "text": [
      "/tmp/ipykernel_173523/3953082156.py:22: DtypeWarning: Columns (4,8,12,18) have mixed types. Specify dtype option on import or set low_memory=False.\n",
      "  dfs.append(pd.read_csv(fpath, sep='\\t', escapechar='\\\\', on_bad_lines='skip',\n"
     ]
    },
    {
     "name": "stdout",
     "output_type": "stream",
     "text": [
      "../data/kenny_data/collection_20170410/54_user_info.txt\n"
     ]
    },
    {
     "name": "stderr",
     "output_type": "stream",
     "text": [
      "/tmp/ipykernel_173523/3953082156.py:22: DtypeWarning: Columns (4,8,12,18) have mixed types. Specify dtype option on import or set low_memory=False.\n",
      "  dfs.append(pd.read_csv(fpath, sep='\\t', escapechar='\\\\', on_bad_lines='skip',\n"
     ]
    },
    {
     "name": "stdout",
     "output_type": "stream",
     "text": [
      "../data/kenny_data/collection_20170410/55_user_info.txt\n"
     ]
    },
    {
     "name": "stderr",
     "output_type": "stream",
     "text": [
      "/tmp/ipykernel_173523/3953082156.py:22: DtypeWarning: Columns (4,7) have mixed types. Specify dtype option on import or set low_memory=False.\n",
      "  dfs.append(pd.read_csv(fpath, sep='\\t', escapechar='\\\\', on_bad_lines='skip',\n"
     ]
    },
    {
     "name": "stdout",
     "output_type": "stream",
     "text": [
      "../data/kenny_data/collection_20170410/56_user_info.txt\n"
     ]
    },
    {
     "name": "stderr",
     "output_type": "stream",
     "text": [
      "/tmp/ipykernel_173523/3953082156.py:22: DtypeWarning: Columns (4,8,12,18) have mixed types. Specify dtype option on import or set low_memory=False.\n",
      "  dfs.append(pd.read_csv(fpath, sep='\\t', escapechar='\\\\', on_bad_lines='skip',\n"
     ]
    },
    {
     "name": "stdout",
     "output_type": "stream",
     "text": [
      "../data/kenny_data/collection_20170410/57_user_info.txt\n"
     ]
    },
    {
     "name": "stderr",
     "output_type": "stream",
     "text": [
      "/tmp/ipykernel_173523/3953082156.py:22: DtypeWarning: Columns (4,7,8,12,18) have mixed types. Specify dtype option on import or set low_memory=False.\n",
      "  dfs.append(pd.read_csv(fpath, sep='\\t', escapechar='\\\\', on_bad_lines='skip',\n"
     ]
    },
    {
     "name": "stdout",
     "output_type": "stream",
     "text": [
      "../data/kenny_data/collection_20170410/58_user_info.txt\n"
     ]
    },
    {
     "name": "stderr",
     "output_type": "stream",
     "text": [
      "/tmp/ipykernel_173523/3953082156.py:22: DtypeWarning: Columns (4,7,8,12,18) have mixed types. Specify dtype option on import or set low_memory=False.\n",
      "  dfs.append(pd.read_csv(fpath, sep='\\t', escapechar='\\\\', on_bad_lines='skip',\n"
     ]
    },
    {
     "name": "stdout",
     "output_type": "stream",
     "text": [
      "../data/kenny_data/collection_20170410/59_user_info.txt\n"
     ]
    },
    {
     "name": "stderr",
     "output_type": "stream",
     "text": [
      "/tmp/ipykernel_173523/3953082156.py:22: DtypeWarning: Columns (4,8,12,18) have mixed types. Specify dtype option on import or set low_memory=False.\n",
      "  dfs.append(pd.read_csv(fpath, sep='\\t', escapechar='\\\\', on_bad_lines='skip',\n"
     ]
    },
    {
     "name": "stdout",
     "output_type": "stream",
     "text": [
      "../data/kenny_data/collection_20170410/5_user_info.txt\n"
     ]
    },
    {
     "name": "stderr",
     "output_type": "stream",
     "text": [
      "/tmp/ipykernel_173523/3953082156.py:22: DtypeWarning: Columns (4,8,12,18) have mixed types. Specify dtype option on import or set low_memory=False.\n",
      "  dfs.append(pd.read_csv(fpath, sep='\\t', escapechar='\\\\', on_bad_lines='skip',\n"
     ]
    },
    {
     "name": "stdout",
     "output_type": "stream",
     "text": [
      "../data/kenny_data/collection_20170410/60_user_info.txt\n"
     ]
    },
    {
     "name": "stderr",
     "output_type": "stream",
     "text": [
      "/tmp/ipykernel_173523/3953082156.py:22: DtypeWarning: Columns (4,8,12,18) have mixed types. Specify dtype option on import or set low_memory=False.\n",
      "  dfs.append(pd.read_csv(fpath, sep='\\t', escapechar='\\\\', on_bad_lines='skip',\n"
     ]
    },
    {
     "name": "stdout",
     "output_type": "stream",
     "text": [
      "../data/kenny_data/collection_20170410/61_user_info.txt\n"
     ]
    },
    {
     "name": "stderr",
     "output_type": "stream",
     "text": [
      "/tmp/ipykernel_173523/3953082156.py:22: DtypeWarning: Columns (4,7,8,12,18) have mixed types. Specify dtype option on import or set low_memory=False.\n",
      "  dfs.append(pd.read_csv(fpath, sep='\\t', escapechar='\\\\', on_bad_lines='skip',\n"
     ]
    },
    {
     "name": "stdout",
     "output_type": "stream",
     "text": [
      "../data/kenny_data/collection_20170410/62_user_info.txt\n"
     ]
    },
    {
     "name": "stderr",
     "output_type": "stream",
     "text": [
      "/tmp/ipykernel_173523/3953082156.py:22: DtypeWarning: Columns (4,7,8,12,18) have mixed types. Specify dtype option on import or set low_memory=False.\n",
      "  dfs.append(pd.read_csv(fpath, sep='\\t', escapechar='\\\\', on_bad_lines='skip',\n"
     ]
    },
    {
     "name": "stdout",
     "output_type": "stream",
     "text": [
      "../data/kenny_data/collection_20170410/63_user_info.txt\n"
     ]
    },
    {
     "name": "stderr",
     "output_type": "stream",
     "text": [
      "/tmp/ipykernel_173523/3953082156.py:22: DtypeWarning: Columns (4,7,8,12,18) have mixed types. Specify dtype option on import or set low_memory=False.\n",
      "  dfs.append(pd.read_csv(fpath, sep='\\t', escapechar='\\\\', on_bad_lines='skip',\n"
     ]
    },
    {
     "name": "stdout",
     "output_type": "stream",
     "text": [
      "../data/kenny_data/collection_20170410/64_user_info.txt\n"
     ]
    },
    {
     "name": "stderr",
     "output_type": "stream",
     "text": [
      "/tmp/ipykernel_173523/3953082156.py:22: DtypeWarning: Columns (4,7,8,12,18) have mixed types. Specify dtype option on import or set low_memory=False.\n",
      "  dfs.append(pd.read_csv(fpath, sep='\\t', escapechar='\\\\', on_bad_lines='skip',\n"
     ]
    },
    {
     "name": "stdout",
     "output_type": "stream",
     "text": [
      "../data/kenny_data/collection_20170410/65_user_info.txt\n"
     ]
    },
    {
     "name": "stderr",
     "output_type": "stream",
     "text": [
      "/tmp/ipykernel_173523/3953082156.py:22: DtypeWarning: Columns (4,7) have mixed types. Specify dtype option on import or set low_memory=False.\n",
      "  dfs.append(pd.read_csv(fpath, sep='\\t', escapechar='\\\\', on_bad_lines='skip',\n"
     ]
    },
    {
     "name": "stdout",
     "output_type": "stream",
     "text": [
      "../data/kenny_data/collection_20170410/66_user_info.txt\n"
     ]
    },
    {
     "name": "stderr",
     "output_type": "stream",
     "text": [
      "/tmp/ipykernel_173523/3953082156.py:22: DtypeWarning: Columns (4,7,8,12,18) have mixed types. Specify dtype option on import or set low_memory=False.\n",
      "  dfs.append(pd.read_csv(fpath, sep='\\t', escapechar='\\\\', on_bad_lines='skip',\n"
     ]
    },
    {
     "name": "stdout",
     "output_type": "stream",
     "text": [
      "../data/kenny_data/collection_20170410/67_user_info.txt\n"
     ]
    },
    {
     "name": "stderr",
     "output_type": "stream",
     "text": [
      "/tmp/ipykernel_173523/3953082156.py:22: DtypeWarning: Columns (4,8,12,18) have mixed types. Specify dtype option on import or set low_memory=False.\n",
      "  dfs.append(pd.read_csv(fpath, sep='\\t', escapechar='\\\\', on_bad_lines='skip',\n"
     ]
    },
    {
     "name": "stdout",
     "output_type": "stream",
     "text": [
      "../data/kenny_data/collection_20170410/68_user_info.txt\n"
     ]
    },
    {
     "name": "stderr",
     "output_type": "stream",
     "text": [
      "/tmp/ipykernel_173523/3953082156.py:22: DtypeWarning: Columns (4,7,8,12,18) have mixed types. Specify dtype option on import or set low_memory=False.\n",
      "  dfs.append(pd.read_csv(fpath, sep='\\t', escapechar='\\\\', on_bad_lines='skip',\n"
     ]
    },
    {
     "name": "stdout",
     "output_type": "stream",
     "text": [
      "../data/kenny_data/collection_20170410/69_user_info.txt\n"
     ]
    },
    {
     "name": "stderr",
     "output_type": "stream",
     "text": [
      "/tmp/ipykernel_173523/3953082156.py:22: DtypeWarning: Columns (4,7,8,12,18) have mixed types. Specify dtype option on import or set low_memory=False.\n",
      "  dfs.append(pd.read_csv(fpath, sep='\\t', escapechar='\\\\', on_bad_lines='skip',\n"
     ]
    },
    {
     "name": "stdout",
     "output_type": "stream",
     "text": [
      "../data/kenny_data/collection_20170410/6_user_info.txt\n"
     ]
    },
    {
     "name": "stderr",
     "output_type": "stream",
     "text": [
      "/tmp/ipykernel_173523/3953082156.py:22: DtypeWarning: Columns (4,8,12,18) have mixed types. Specify dtype option on import or set low_memory=False.\n",
      "  dfs.append(pd.read_csv(fpath, sep='\\t', escapechar='\\\\', on_bad_lines='skip',\n"
     ]
    },
    {
     "name": "stdout",
     "output_type": "stream",
     "text": [
      "../data/kenny_data/collection_20170410/70_user_info.txt\n"
     ]
    },
    {
     "name": "stderr",
     "output_type": "stream",
     "text": [
      "/tmp/ipykernel_173523/3953082156.py:22: DtypeWarning: Columns (4) have mixed types. Specify dtype option on import or set low_memory=False.\n",
      "  dfs.append(pd.read_csv(fpath, sep='\\t', escapechar='\\\\', on_bad_lines='skip',\n"
     ]
    },
    {
     "name": "stdout",
     "output_type": "stream",
     "text": [
      "../data/kenny_data/collection_20170410/71_user_info.txt\n"
     ]
    },
    {
     "name": "stderr",
     "output_type": "stream",
     "text": [
      "/tmp/ipykernel_173523/3953082156.py:22: DtypeWarning: Columns (4,7,8,12,18) have mixed types. Specify dtype option on import or set low_memory=False.\n",
      "  dfs.append(pd.read_csv(fpath, sep='\\t', escapechar='\\\\', on_bad_lines='skip',\n"
     ]
    },
    {
     "name": "stdout",
     "output_type": "stream",
     "text": [
      "../data/kenny_data/collection_20170410/72_user_info.txt\n"
     ]
    },
    {
     "name": "stderr",
     "output_type": "stream",
     "text": [
      "/tmp/ipykernel_173523/3953082156.py:22: DtypeWarning: Columns (4,7,8,12,18) have mixed types. Specify dtype option on import or set low_memory=False.\n",
      "  dfs.append(pd.read_csv(fpath, sep='\\t', escapechar='\\\\', on_bad_lines='skip',\n"
     ]
    },
    {
     "name": "stdout",
     "output_type": "stream",
     "text": [
      "../data/kenny_data/collection_20170410/73_user_info.txt\n"
     ]
    },
    {
     "name": "stderr",
     "output_type": "stream",
     "text": [
      "/tmp/ipykernel_173523/3953082156.py:22: DtypeWarning: Columns (4,8,12,18) have mixed types. Specify dtype option on import or set low_memory=False.\n",
      "  dfs.append(pd.read_csv(fpath, sep='\\t', escapechar='\\\\', on_bad_lines='skip',\n"
     ]
    },
    {
     "name": "stdout",
     "output_type": "stream",
     "text": [
      "../data/kenny_data/collection_20170410/74_user_info.txt\n"
     ]
    },
    {
     "name": "stderr",
     "output_type": "stream",
     "text": [
      "/tmp/ipykernel_173523/3953082156.py:22: DtypeWarning: Columns (4,7,8,12,18) have mixed types. Specify dtype option on import or set low_memory=False.\n",
      "  dfs.append(pd.read_csv(fpath, sep='\\t', escapechar='\\\\', on_bad_lines='skip',\n"
     ]
    },
    {
     "name": "stdout",
     "output_type": "stream",
     "text": [
      "../data/kenny_data/collection_20170410/75_user_info.txt\n"
     ]
    },
    {
     "name": "stderr",
     "output_type": "stream",
     "text": [
      "/tmp/ipykernel_173523/3953082156.py:22: DtypeWarning: Columns (4,7,8,12,18) have mixed types. Specify dtype option on import or set low_memory=False.\n",
      "  dfs.append(pd.read_csv(fpath, sep='\\t', escapechar='\\\\', on_bad_lines='skip',\n"
     ]
    },
    {
     "name": "stdout",
     "output_type": "stream",
     "text": [
      "../data/kenny_data/collection_20170410/76_user_info.txt\n"
     ]
    },
    {
     "name": "stderr",
     "output_type": "stream",
     "text": [
      "/tmp/ipykernel_173523/3953082156.py:22: DtypeWarning: Columns (4,7,8,12,18) have mixed types. Specify dtype option on import or set low_memory=False.\n",
      "  dfs.append(pd.read_csv(fpath, sep='\\t', escapechar='\\\\', on_bad_lines='skip',\n"
     ]
    },
    {
     "name": "stdout",
     "output_type": "stream",
     "text": [
      "../data/kenny_data/collection_20170410/77_user_info.txt\n"
     ]
    },
    {
     "name": "stderr",
     "output_type": "stream",
     "text": [
      "/tmp/ipykernel_173523/3953082156.py:22: DtypeWarning: Columns (4,7,8,12,18) have mixed types. Specify dtype option on import or set low_memory=False.\n",
      "  dfs.append(pd.read_csv(fpath, sep='\\t', escapechar='\\\\', on_bad_lines='skip',\n"
     ]
    },
    {
     "name": "stdout",
     "output_type": "stream",
     "text": [
      "../data/kenny_data/collection_20170410/78_user_info.txt\n"
     ]
    },
    {
     "name": "stderr",
     "output_type": "stream",
     "text": [
      "/tmp/ipykernel_173523/3953082156.py:22: DtypeWarning: Columns (4,7,8,12,18) have mixed types. Specify dtype option on import or set low_memory=False.\n",
      "  dfs.append(pd.read_csv(fpath, sep='\\t', escapechar='\\\\', on_bad_lines='skip',\n"
     ]
    },
    {
     "name": "stdout",
     "output_type": "stream",
     "text": [
      "../data/kenny_data/collection_20170410/79_user_info.txt\n"
     ]
    },
    {
     "name": "stderr",
     "output_type": "stream",
     "text": [
      "/tmp/ipykernel_173523/3953082156.py:22: DtypeWarning: Columns (4,8,12,18) have mixed types. Specify dtype option on import or set low_memory=False.\n",
      "  dfs.append(pd.read_csv(fpath, sep='\\t', escapechar='\\\\', on_bad_lines='skip',\n"
     ]
    },
    {
     "name": "stdout",
     "output_type": "stream",
     "text": [
      "../data/kenny_data/collection_20170410/7_user_info.txt\n"
     ]
    },
    {
     "name": "stderr",
     "output_type": "stream",
     "text": [
      "/tmp/ipykernel_173523/3953082156.py:22: DtypeWarning: Columns (4,7,8,12,18) have mixed types. Specify dtype option on import or set low_memory=False.\n",
      "  dfs.append(pd.read_csv(fpath, sep='\\t', escapechar='\\\\', on_bad_lines='skip',\n"
     ]
    },
    {
     "name": "stdout",
     "output_type": "stream",
     "text": [
      "../data/kenny_data/collection_20170410/80_user_info.txt\n"
     ]
    },
    {
     "name": "stderr",
     "output_type": "stream",
     "text": [
      "/tmp/ipykernel_173523/3953082156.py:22: DtypeWarning: Columns (4,7,8,12,18) have mixed types. Specify dtype option on import or set low_memory=False.\n",
      "  dfs.append(pd.read_csv(fpath, sep='\\t', escapechar='\\\\', on_bad_lines='skip',\n"
     ]
    },
    {
     "name": "stdout",
     "output_type": "stream",
     "text": [
      "../data/kenny_data/collection_20170410/81_user_info.txt\n"
     ]
    },
    {
     "name": "stderr",
     "output_type": "stream",
     "text": [
      "/tmp/ipykernel_173523/3953082156.py:22: DtypeWarning: Columns (4,7,8,12,18) have mixed types. Specify dtype option on import or set low_memory=False.\n",
      "  dfs.append(pd.read_csv(fpath, sep='\\t', escapechar='\\\\', on_bad_lines='skip',\n"
     ]
    },
    {
     "name": "stdout",
     "output_type": "stream",
     "text": [
      "../data/kenny_data/collection_20170410/82_user_info.txt\n"
     ]
    },
    {
     "name": "stderr",
     "output_type": "stream",
     "text": [
      "/tmp/ipykernel_173523/3953082156.py:22: DtypeWarning: Columns (4,8,12,18) have mixed types. Specify dtype option on import or set low_memory=False.\n",
      "  dfs.append(pd.read_csv(fpath, sep='\\t', escapechar='\\\\', on_bad_lines='skip',\n"
     ]
    },
    {
     "name": "stdout",
     "output_type": "stream",
     "text": [
      "../data/kenny_data/collection_20170410/83_user_info.txt\n"
     ]
    },
    {
     "name": "stderr",
     "output_type": "stream",
     "text": [
      "/tmp/ipykernel_173523/3953082156.py:22: DtypeWarning: Columns (4) have mixed types. Specify dtype option on import or set low_memory=False.\n",
      "  dfs.append(pd.read_csv(fpath, sep='\\t', escapechar='\\\\', on_bad_lines='skip',\n"
     ]
    },
    {
     "name": "stdout",
     "output_type": "stream",
     "text": [
      "../data/kenny_data/collection_20170410/84_user_info.txt\n"
     ]
    },
    {
     "name": "stderr",
     "output_type": "stream",
     "text": [
      "/tmp/ipykernel_173523/3953082156.py:22: DtypeWarning: Columns (4,7,8,12,18) have mixed types. Specify dtype option on import or set low_memory=False.\n",
      "  dfs.append(pd.read_csv(fpath, sep='\\t', escapechar='\\\\', on_bad_lines='skip',\n"
     ]
    },
    {
     "name": "stdout",
     "output_type": "stream",
     "text": [
      "../data/kenny_data/collection_20170410/85_user_info.txt\n"
     ]
    },
    {
     "name": "stderr",
     "output_type": "stream",
     "text": [
      "/tmp/ipykernel_173523/3953082156.py:22: DtypeWarning: Columns (4,7,8,12,18) have mixed types. Specify dtype option on import or set low_memory=False.\n",
      "  dfs.append(pd.read_csv(fpath, sep='\\t', escapechar='\\\\', on_bad_lines='skip',\n"
     ]
    },
    {
     "name": "stdout",
     "output_type": "stream",
     "text": [
      "../data/kenny_data/collection_20170410/86_user_info.txt\n"
     ]
    },
    {
     "name": "stderr",
     "output_type": "stream",
     "text": [
      "/tmp/ipykernel_173523/3953082156.py:22: DtypeWarning: Columns (4,7,8,12,18) have mixed types. Specify dtype option on import or set low_memory=False.\n",
      "  dfs.append(pd.read_csv(fpath, sep='\\t', escapechar='\\\\', on_bad_lines='skip',\n"
     ]
    },
    {
     "name": "stdout",
     "output_type": "stream",
     "text": [
      "../data/kenny_data/collection_20170410/87_user_info.txt\n"
     ]
    },
    {
     "name": "stderr",
     "output_type": "stream",
     "text": [
      "/tmp/ipykernel_173523/3953082156.py:22: DtypeWarning: Columns (4,7,8,12,18) have mixed types. Specify dtype option on import or set low_memory=False.\n",
      "  dfs.append(pd.read_csv(fpath, sep='\\t', escapechar='\\\\', on_bad_lines='skip',\n"
     ]
    },
    {
     "name": "stdout",
     "output_type": "stream",
     "text": [
      "../data/kenny_data/collection_20170410/88_user_info.txt\n"
     ]
    },
    {
     "name": "stderr",
     "output_type": "stream",
     "text": [
      "/tmp/ipykernel_173523/3953082156.py:22: DtypeWarning: Columns (4,7,8,12,18) have mixed types. Specify dtype option on import or set low_memory=False.\n",
      "  dfs.append(pd.read_csv(fpath, sep='\\t', escapechar='\\\\', on_bad_lines='skip',\n"
     ]
    },
    {
     "name": "stdout",
     "output_type": "stream",
     "text": [
      "../data/kenny_data/collection_20170410/89_user_info.txt\n"
     ]
    },
    {
     "name": "stderr",
     "output_type": "stream",
     "text": [
      "/tmp/ipykernel_173523/3953082156.py:22: DtypeWarning: Columns (4,7,8,12,18) have mixed types. Specify dtype option on import or set low_memory=False.\n",
      "  dfs.append(pd.read_csv(fpath, sep='\\t', escapechar='\\\\', on_bad_lines='skip',\n"
     ]
    },
    {
     "name": "stdout",
     "output_type": "stream",
     "text": [
      "../data/kenny_data/collection_20170410/8_user_info.txt\n"
     ]
    },
    {
     "name": "stderr",
     "output_type": "stream",
     "text": [
      "/tmp/ipykernel_173523/3953082156.py:22: DtypeWarning: Columns (4,8,12,18) have mixed types. Specify dtype option on import or set low_memory=False.\n",
      "  dfs.append(pd.read_csv(fpath, sep='\\t', escapechar='\\\\', on_bad_lines='skip',\n"
     ]
    },
    {
     "name": "stdout",
     "output_type": "stream",
     "text": [
      "../data/kenny_data/collection_20170410/90_user_info.txt\n"
     ]
    },
    {
     "name": "stderr",
     "output_type": "stream",
     "text": [
      "/tmp/ipykernel_173523/3953082156.py:22: DtypeWarning: Columns (4,8,12,18) have mixed types. Specify dtype option on import or set low_memory=False.\n",
      "  dfs.append(pd.read_csv(fpath, sep='\\t', escapechar='\\\\', on_bad_lines='skip',\n"
     ]
    },
    {
     "name": "stdout",
     "output_type": "stream",
     "text": [
      "../data/kenny_data/collection_20170410/91_user_info.txt\n"
     ]
    },
    {
     "name": "stderr",
     "output_type": "stream",
     "text": [
      "/tmp/ipykernel_173523/3953082156.py:22: DtypeWarning: Columns (4,7,8,12,18) have mixed types. Specify dtype option on import or set low_memory=False.\n",
      "  dfs.append(pd.read_csv(fpath, sep='\\t', escapechar='\\\\', on_bad_lines='skip',\n"
     ]
    },
    {
     "name": "stdout",
     "output_type": "stream",
     "text": [
      "../data/kenny_data/collection_20170410/92_user_info.txt\n"
     ]
    },
    {
     "name": "stderr",
     "output_type": "stream",
     "text": [
      "/tmp/ipykernel_173523/3953082156.py:22: DtypeWarning: Columns (4,7) have mixed types. Specify dtype option on import or set low_memory=False.\n",
      "  dfs.append(pd.read_csv(fpath, sep='\\t', escapechar='\\\\', on_bad_lines='skip',\n"
     ]
    },
    {
     "name": "stdout",
     "output_type": "stream",
     "text": [
      "../data/kenny_data/collection_20170410/93_user_info.txt\n"
     ]
    },
    {
     "name": "stderr",
     "output_type": "stream",
     "text": [
      "/tmp/ipykernel_173523/3953082156.py:22: DtypeWarning: Columns (4,8,12,18) have mixed types. Specify dtype option on import or set low_memory=False.\n",
      "  dfs.append(pd.read_csv(fpath, sep='\\t', escapechar='\\\\', on_bad_lines='skip',\n"
     ]
    },
    {
     "name": "stdout",
     "output_type": "stream",
     "text": [
      "../data/kenny_data/collection_20170410/94_user_info.txt\n"
     ]
    },
    {
     "name": "stderr",
     "output_type": "stream",
     "text": [
      "/tmp/ipykernel_173523/3953082156.py:22: DtypeWarning: Columns (4,7,8,12,18) have mixed types. Specify dtype option on import or set low_memory=False.\n",
      "  dfs.append(pd.read_csv(fpath, sep='\\t', escapechar='\\\\', on_bad_lines='skip',\n"
     ]
    },
    {
     "name": "stdout",
     "output_type": "stream",
     "text": [
      "../data/kenny_data/collection_20170410/95_user_info.txt\n"
     ]
    },
    {
     "name": "stderr",
     "output_type": "stream",
     "text": [
      "/tmp/ipykernel_173523/3953082156.py:22: DtypeWarning: Columns (4,8,12,18) have mixed types. Specify dtype option on import or set low_memory=False.\n",
      "  dfs.append(pd.read_csv(fpath, sep='\\t', escapechar='\\\\', on_bad_lines='skip',\n"
     ]
    },
    {
     "name": "stdout",
     "output_type": "stream",
     "text": [
      "../data/kenny_data/collection_20170410/96_user_info.txt\n"
     ]
    },
    {
     "name": "stderr",
     "output_type": "stream",
     "text": [
      "/tmp/ipykernel_173523/3953082156.py:22: DtypeWarning: Columns (4,7,8,12,18) have mixed types. Specify dtype option on import or set low_memory=False.\n",
      "  dfs.append(pd.read_csv(fpath, sep='\\t', escapechar='\\\\', on_bad_lines='skip',\n"
     ]
    },
    {
     "name": "stdout",
     "output_type": "stream",
     "text": [
      "../data/kenny_data/collection_20170410/97_user_info.txt\n"
     ]
    },
    {
     "name": "stderr",
     "output_type": "stream",
     "text": [
      "/tmp/ipykernel_173523/3953082156.py:22: DtypeWarning: Columns (4,7,8,12,18) have mixed types. Specify dtype option on import or set low_memory=False.\n",
      "  dfs.append(pd.read_csv(fpath, sep='\\t', escapechar='\\\\', on_bad_lines='skip',\n"
     ]
    },
    {
     "name": "stdout",
     "output_type": "stream",
     "text": [
      "../data/kenny_data/collection_20170410/98_user_info.txt\n"
     ]
    },
    {
     "name": "stderr",
     "output_type": "stream",
     "text": [
      "/tmp/ipykernel_173523/3953082156.py:22: DtypeWarning: Columns (4,7,8,12,18) have mixed types. Specify dtype option on import or set low_memory=False.\n",
      "  dfs.append(pd.read_csv(fpath, sep='\\t', escapechar='\\\\', on_bad_lines='skip',\n"
     ]
    },
    {
     "name": "stdout",
     "output_type": "stream",
     "text": [
      "../data/kenny_data/collection_20170410/99_user_info.txt\n"
     ]
    },
    {
     "name": "stderr",
     "output_type": "stream",
     "text": [
      "/tmp/ipykernel_173523/3953082156.py:22: DtypeWarning: Columns (4,7,8,12,18) have mixed types. Specify dtype option on import or set low_memory=False.\n",
      "  dfs.append(pd.read_csv(fpath, sep='\\t', escapechar='\\\\', on_bad_lines='skip',\n"
     ]
    },
    {
     "name": "stdout",
     "output_type": "stream",
     "text": [
      "../data/kenny_data/collection_20170410/9_user_info.txt\n"
     ]
    },
    {
     "name": "stderr",
     "output_type": "stream",
     "text": [
      "/tmp/ipykernel_173523/3953082156.py:22: DtypeWarning: Columns (4,8,12,18) have mixed types. Specify dtype option on import or set low_memory=False.\n",
      "  dfs.append(pd.read_csv(fpath, sep='\\t', escapechar='\\\\', on_bad_lines='skip',\n"
     ]
    },
    {
     "data": {
      "text/plain": [
       "230"
      ]
     },
     "execution_count": 6,
     "metadata": {},
     "output_type": "execute_result"
    }
   ],
   "source": [
    "import pandas as pd\n",
    "import csv\n",
    "from tqdm.auto import tqdm\n",
    "\n",
    "header = ['uid', 'name', 'screen_name', 'url', 'protected', 'location', \n",
    "          'description', \"followers_count\", \"friends_count\",\n",
    "\"created_at\",\n",
    "\"utc_offset\",\n",
    "'time_zone',\n",
    "\"statuses_count\",\n",
    "\"lang\",\n",
    "\"status_created_at\",\n",
    "'status_coordinates',\n",
    "\"status_lang\",\n",
    "\"profile_image_url_https\",\n",
    "\"verified\"\n",
    "            ]\n",
    "\n",
    "dfs = []\n",
    "for fpath in tqdm(fpaths): # 210G in RAM for 20170306\n",
    "    tqdm.write(fpath)\n",
    "    dfs.append(pd.read_csv(fpath, sep='\\t', escapechar='\\\\', on_bad_lines='skip',\n",
    "                           header=None, names=header, quoting=csv.QUOTE_NONE)) # prob look for \\r, \\n, \\xa0\n",
    "len(dfs)"
   ]
  },
  {
   "cell_type": "code",
   "execution_count": 5,
   "id": "48f5ee6b-48e4-43e7-a229-82b7ddee3a5b",
   "metadata": {
    "tags": []
   },
   "outputs": [
    {
     "name": "stdout",
     "output_type": "stream",
     "text": [
      "<class 'pandas.core.frame.DataFrame'>\n",
      "RangeIndex: 1401274 entries, 0 to 1401273\n",
      "Data columns (total 19 columns):\n",
      " #   Column                   Non-Null Count    Dtype \n",
      "---  ------                   --------------    ----- \n",
      " 0   uid                      1401274 non-null  int64 \n",
      " 1   name                     1400777 non-null  object\n",
      " 2   screen_name              1401273 non-null  object\n",
      " 3   url                      1401274 non-null  object\n",
      " 4   protected                1401255 non-null  object\n",
      " 5   location                 562467 non-null   object\n",
      " 6   description              751086 non-null   object\n",
      " 7   followers_count          1401274 non-null  object\n",
      " 8   friends_count            1401274 non-null  object\n",
      " 9   created_at               1401274 non-null  object\n",
      " 10  utc_offset               1401274 non-null  object\n",
      " 11  time_zone                1401274 non-null  object\n",
      " 12  statuses_count           1401274 non-null  object\n",
      " 13  lang                     1401259 non-null  object\n",
      " 14  status_created_at        1252527 non-null  object\n",
      " 15  status_coordinates       10998 non-null    object\n",
      " 16  status_lang              1252657 non-null  object\n",
      " 17  profile_image_url_https  1401273 non-null  object\n",
      " 18  verified                 1401141 non-null  object\n",
      "dtypes: int64(1), object(18)\n",
      "memory usage: 203.1+ MB\n"
     ]
    }
   ],
   "source": [
    "dfs[0].info()"
   ]
  },
  {
   "cell_type": "code",
   "execution_count": 7,
   "id": "33b2562c-c85d-47bd-ba16-36638d6fbb28",
   "metadata": {
    "scrolled": true,
    "tags": []
   },
   "outputs": [
    {
     "data": {
      "application/vnd.jupyter.widget-view+json": {
       "model_id": "9fdc376d196b4d708ffbfcbd3c56f268",
       "version_major": 2,
       "version_minor": 0
      },
      "text/plain": [
       "  0%|          | 0/230 [00:00<?, ?it/s]"
      ]
     },
     "metadata": {},
     "output_type": "display_data"
    }
   ],
   "source": [
    "# extract user IDs\n",
    "users = set()\n",
    "\n",
    "for df in tqdm(dfs):\n",
    "    unique_uids = set(df.uid)\n",
    "    # unique_uids = set(df.index)\n",
    "    # tqdm.write(f'{len(df)} rows, {len(unique_uids)} unique users')\n",
    "    users |= unique_uids"
   ]
  },
  {
   "cell_type": "code",
   "execution_count": 8,
   "id": "5cb6399d-f791-4bdc-a10e-fef8a6c40f7c",
   "metadata": {
    "scrolled": true,
    "tags": []
   },
   "outputs": [
    {
     "data": {
      "application/vnd.jupyter.widget-view+json": {
       "model_id": "ec6d2e6d2285424c94246b9de1c58470",
       "version_major": 2,
       "version_minor": 0
      },
      "text/plain": [
       "  0%|          | 0/321627344 [00:00<?, ?it/s]"
      ]
     },
     "metadata": {},
     "output_type": "display_data"
    }
   ],
   "source": [
    "# Save out User IDs to compare overlap\n",
    "# uids = pd.DataFrame(users, columns=['uid']) # takes forever\n",
    "# uids\n",
    "collection_date = '20170410'\n",
    "with open(f'../data/kenny_data/{collection_date}_uids.txt', 'w') as f:\n",
    "    for uid in tqdm(users):\n",
    "        f.write(f'{uid}\\n')"
   ]
  },
  {
   "cell_type": "code",
   "execution_count": null,
   "id": "bf4e3922-6fca-4aeb-abf3-bbb26179e15c",
   "metadata": {
    "tags": []
   },
   "outputs": [],
   "source": [
    "dfs[0][['uid', 'name', 'screen_name', 'url', 'protected', 'description']]"
   ]
  },
  {
   "cell_type": "markdown",
   "id": "9ed897ee-e4f7-49c6-98c5-cba4b4c1e23d",
   "metadata": {},
   "source": [
    "# Compare user IDs between scrapes"
   ]
  },
  {
   "cell_type": "code",
   "execution_count": 1,
   "id": "dfde161c-a410-48c3-b79e-65154eff0eb4",
   "metadata": {
    "tags": []
   },
   "outputs": [
    {
     "data": {
      "text/plain": [
       "2"
      ]
     },
     "execution_count": 1,
     "metadata": {},
     "output_type": "execute_result"
    }
   ],
   "source": [
    "collection_dates = ['20170306', '20170410']\n",
    "uids = {}\n",
    "\n",
    "for date in collection_dates:\n",
    "    with open(f'../data/kenny_data/{date}_uids.txt', 'r') as f:\n",
    "        uids[date] = set(f.read().splitlines())\n",
    "len(uids)"
   ]
  },
  {
   "cell_type": "code",
   "execution_count": 2,
   "id": "719d78fd-2d3c-44b0-b2c9-fdbd6ac9b780",
   "metadata": {
    "tags": []
   },
   "outputs": [
    {
     "name": "stdout",
     "output_type": "stream",
     "text": [
      "322206703\n",
      "321627344\n",
      "321561539\n"
     ]
    }
   ],
   "source": [
    "print(len(uids['20170306']))\n",
    "print(len(uids['20170410']))\n",
    "print(len(uids['20170306'].intersection(uids['20170410'])))"
   ]
  }
 ],
 "metadata": {
  "kernelspec": {
   "display_name": "Python 3 (ipykernel)",
   "language": "python",
   "name": "python3"
  },
  "language_info": {
   "codemirror_mode": {
    "name": "ipython",
    "version": 3
   },
   "file_extension": ".py",
   "mimetype": "text/x-python",
   "name": "python",
   "nbconvert_exporter": "python",
   "pygments_lexer": "ipython3",
   "version": "3.11.4"
  }
 },
 "nbformat": 4,
 "nbformat_minor": 5
}

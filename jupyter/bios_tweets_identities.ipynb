{
 "cells": [
  {
   "cell_type": "markdown",
   "id": "080fbcfa-edb7-4814-a223-d9a68821db4e",
   "metadata": {},
   "source": [
    "# Compare top bio and tweet identities over time"
   ]
  },
  {
   "cell_type": "code",
   "execution_count": null,
   "id": "f124176b-6653-4cb6-9521-6a97003e3b63",
   "metadata": {},
   "outputs": [
    {
     "data": {
      "application/vnd.jupyter.widget-view+json": {
       "model_id": "5e7876af05c74d28962c74c7ae611196",
       "version_major": 2,
       "version_minor": 0
      },
      "text/plain": [
       "  0%|          | 0/785 [00:00<?, ?it/s]"
      ]
     },
     "metadata": {},
     "output_type": "display_data"
    }
   ],
   "source": [
    "# Top bio identities over time\n",
    "import os\n",
    "from glob import glob\n",
    "import pandas as pd\n",
    "from tqdm.auto import tqdm\n",
    "import pdb\n",
    "\n",
    "dfs = []\n",
    "\n",
    "tweet_output_dirpath = '../output/tweets_bios_identities/'\n",
    "bio_output_dirpath = '../output/tweets_identities/'\n",
    "tweet_fpaths = sorted(glob(os.path.join(tweet_output_dirpath, '*')))\n",
    "\n",
    "for tweet_fpath in tqdm(tweet_fpaths):\n",
    "# for tweet_fpath in ['../output/tweets_bios_identities/virus_2020_1_29.jsonl']:\n",
    "    fname = os.path.basename(tweet_fpath)\n",
    "\n",
    "    # Find matching original document\n",
    "    matching_bio_fpath = os.path.join(bio_output_dirpath, fname)\n",
    "    \n",
    "    # Load bio and tweet-identified files\n",
    "    # tweets_output = pd.read_json(tweet_fpath, lines=True)\n",
    "    bio_output = pd.read_json(matching_bio_fpath, lines=True)\n",
    "    expanded = bio_output[['identities', 'created_at']].explode('identities')\n",
    "    dfs.append(expanded)\n",
    "\n",
    "len(dfs)"
   ]
  }
 ],
 "metadata": {
  "kernelspec": {
   "display_name": "Python 3 (ipykernel)",
   "language": "python",
   "name": "python3"
  },
  "language_info": {
   "codemirror_mode": {
    "name": "ipython",
    "version": 3
   },
   "file_extension": ".py",
   "mimetype": "text/x-python",
   "name": "python",
   "nbconvert_exporter": "python",
   "pygments_lexer": "ipython3",
   "version": "3.11.3"
  }
 },
 "nbformat": 4,
 "nbformat_minor": 5
}
